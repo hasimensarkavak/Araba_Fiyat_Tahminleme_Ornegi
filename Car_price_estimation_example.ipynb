{
  "nbformat": 4,
  "nbformat_minor": 0,
  "metadata": {
    "colab": {
      "name": "Araba_Fiyat_Tahminleri.ipynb",
      "provenance": [],
      "collapsed_sections": []
    },
    "kernelspec": {
      "name": "python3",
      "display_name": "Python 3"
    },
    "language_info": {
      "name": "python"
    }
  },
  "cells": [
    {
      "cell_type": "code",
      "metadata": {
        "id": "rBvJuLPYTSFD"
      },
      "source": [
        "import pandas as pd\n",
        "import numpy as np\n",
        "import matplotlib.pyplot as plt\n",
        "import seaborn as sbn"
      ],
      "execution_count": null,
      "outputs": []
    },
    {
      "cell_type": "code",
      "metadata": {
        "id": "CpK1UT2FW_5J"
      },
      "source": [
        "dataFrame = pd.read_excel(\"merc.xlsx\")"
      ],
      "execution_count": null,
      "outputs": []
    },
    {
      "cell_type": "code",
      "metadata": {
        "colab": {
          "base_uri": "https://localhost:8080/",
          "height": 203
        },
        "id": "qy4_5fmaXLAY",
        "outputId": "d4aed983-eace-4c87-898c-3e2a89e7bd53"
      },
      "source": [
        "dataFrame.head()"
      ],
      "execution_count": null,
      "outputs": [
        {
          "output_type": "execute_result",
          "data": {
            "text/html": [
              "<div>\n",
              "<style scoped>\n",
              "    .dataframe tbody tr th:only-of-type {\n",
              "        vertical-align: middle;\n",
              "    }\n",
              "\n",
              "    .dataframe tbody tr th {\n",
              "        vertical-align: top;\n",
              "    }\n",
              "\n",
              "    .dataframe thead th {\n",
              "        text-align: right;\n",
              "    }\n",
              "</style>\n",
              "<table border=\"1\" class=\"dataframe\">\n",
              "  <thead>\n",
              "    <tr style=\"text-align: right;\">\n",
              "      <th></th>\n",
              "      <th>year</th>\n",
              "      <th>price</th>\n",
              "      <th>transmission</th>\n",
              "      <th>mileage</th>\n",
              "      <th>tax</th>\n",
              "      <th>mpg</th>\n",
              "      <th>engineSize</th>\n",
              "    </tr>\n",
              "  </thead>\n",
              "  <tbody>\n",
              "    <tr>\n",
              "      <th>0</th>\n",
              "      <td>2005</td>\n",
              "      <td>5200</td>\n",
              "      <td>Automatic</td>\n",
              "      <td>63000</td>\n",
              "      <td>325</td>\n",
              "      <td>32.1</td>\n",
              "      <td>1.8</td>\n",
              "    </tr>\n",
              "    <tr>\n",
              "      <th>1</th>\n",
              "      <td>2017</td>\n",
              "      <td>34948</td>\n",
              "      <td>Automatic</td>\n",
              "      <td>27000</td>\n",
              "      <td>20</td>\n",
              "      <td>61.4</td>\n",
              "      <td>2.1</td>\n",
              "    </tr>\n",
              "    <tr>\n",
              "      <th>2</th>\n",
              "      <td>2016</td>\n",
              "      <td>49948</td>\n",
              "      <td>Automatic</td>\n",
              "      <td>6200</td>\n",
              "      <td>555</td>\n",
              "      <td>28.0</td>\n",
              "      <td>5.5</td>\n",
              "    </tr>\n",
              "    <tr>\n",
              "      <th>3</th>\n",
              "      <td>2016</td>\n",
              "      <td>61948</td>\n",
              "      <td>Automatic</td>\n",
              "      <td>16000</td>\n",
              "      <td>325</td>\n",
              "      <td>30.4</td>\n",
              "      <td>4.0</td>\n",
              "    </tr>\n",
              "    <tr>\n",
              "      <th>4</th>\n",
              "      <td>2016</td>\n",
              "      <td>73948</td>\n",
              "      <td>Automatic</td>\n",
              "      <td>4000</td>\n",
              "      <td>325</td>\n",
              "      <td>30.1</td>\n",
              "      <td>4.0</td>\n",
              "    </tr>\n",
              "  </tbody>\n",
              "</table>\n",
              "</div>"
            ],
            "text/plain": [
              "   year  price transmission  mileage  tax   mpg  engineSize\n",
              "0  2005   5200    Automatic    63000  325  32.1         1.8\n",
              "1  2017  34948    Automatic    27000   20  61.4         2.1\n",
              "2  2016  49948    Automatic     6200  555  28.0         5.5\n",
              "3  2016  61948    Automatic    16000  325  30.4         4.0\n",
              "4  2016  73948    Automatic     4000  325  30.1         4.0"
            ]
          },
          "metadata": {},
          "execution_count": 7
        }
      ]
    },
    {
      "cell_type": "code",
      "metadata": {
        "id": "jzRlBva9XMsW",
        "colab": {
          "base_uri": "https://localhost:8080/",
          "height": 295
        },
        "outputId": "f4a91846-4f71-4317-ba65-db938360864e"
      },
      "source": [
        "dataFrame.describe()"
      ],
      "execution_count": null,
      "outputs": [
        {
          "output_type": "execute_result",
          "data": {
            "text/html": [
              "<div>\n",
              "<style scoped>\n",
              "    .dataframe tbody tr th:only-of-type {\n",
              "        vertical-align: middle;\n",
              "    }\n",
              "\n",
              "    .dataframe tbody tr th {\n",
              "        vertical-align: top;\n",
              "    }\n",
              "\n",
              "    .dataframe thead th {\n",
              "        text-align: right;\n",
              "    }\n",
              "</style>\n",
              "<table border=\"1\" class=\"dataframe\">\n",
              "  <thead>\n",
              "    <tr style=\"text-align: right;\">\n",
              "      <th></th>\n",
              "      <th>year</th>\n",
              "      <th>price</th>\n",
              "      <th>mileage</th>\n",
              "      <th>tax</th>\n",
              "      <th>mpg</th>\n",
              "      <th>engineSize</th>\n",
              "    </tr>\n",
              "  </thead>\n",
              "  <tbody>\n",
              "    <tr>\n",
              "      <th>count</th>\n",
              "      <td>13119.000000</td>\n",
              "      <td>13119.000000</td>\n",
              "      <td>13119.000000</td>\n",
              "      <td>13119.000000</td>\n",
              "      <td>13119.000000</td>\n",
              "      <td>13119.000000</td>\n",
              "    </tr>\n",
              "    <tr>\n",
              "      <th>mean</th>\n",
              "      <td>2017.296288</td>\n",
              "      <td>24698.596920</td>\n",
              "      <td>21949.559037</td>\n",
              "      <td>129.972178</td>\n",
              "      <td>55.155843</td>\n",
              "      <td>2.071530</td>\n",
              "    </tr>\n",
              "    <tr>\n",
              "      <th>std</th>\n",
              "      <td>2.224709</td>\n",
              "      <td>11842.675542</td>\n",
              "      <td>21176.512267</td>\n",
              "      <td>65.260286</td>\n",
              "      <td>15.220082</td>\n",
              "      <td>0.572426</td>\n",
              "    </tr>\n",
              "    <tr>\n",
              "      <th>min</th>\n",
              "      <td>1970.000000</td>\n",
              "      <td>650.000000</td>\n",
              "      <td>1.000000</td>\n",
              "      <td>0.000000</td>\n",
              "      <td>1.100000</td>\n",
              "      <td>0.000000</td>\n",
              "    </tr>\n",
              "    <tr>\n",
              "      <th>25%</th>\n",
              "      <td>2016.000000</td>\n",
              "      <td>17450.000000</td>\n",
              "      <td>6097.500000</td>\n",
              "      <td>125.000000</td>\n",
              "      <td>45.600000</td>\n",
              "      <td>1.800000</td>\n",
              "    </tr>\n",
              "    <tr>\n",
              "      <th>50%</th>\n",
              "      <td>2018.000000</td>\n",
              "      <td>22480.000000</td>\n",
              "      <td>15189.000000</td>\n",
              "      <td>145.000000</td>\n",
              "      <td>56.500000</td>\n",
              "      <td>2.000000</td>\n",
              "    </tr>\n",
              "    <tr>\n",
              "      <th>75%</th>\n",
              "      <td>2019.000000</td>\n",
              "      <td>28980.000000</td>\n",
              "      <td>31779.500000</td>\n",
              "      <td>145.000000</td>\n",
              "      <td>64.200000</td>\n",
              "      <td>2.100000</td>\n",
              "    </tr>\n",
              "    <tr>\n",
              "      <th>max</th>\n",
              "      <td>2020.000000</td>\n",
              "      <td>159999.000000</td>\n",
              "      <td>259000.000000</td>\n",
              "      <td>580.000000</td>\n",
              "      <td>217.300000</td>\n",
              "      <td>6.200000</td>\n",
              "    </tr>\n",
              "  </tbody>\n",
              "</table>\n",
              "</div>"
            ],
            "text/plain": [
              "               year          price  ...           mpg    engineSize\n",
              "count  13119.000000   13119.000000  ...  13119.000000  13119.000000\n",
              "mean    2017.296288   24698.596920  ...     55.155843      2.071530\n",
              "std        2.224709   11842.675542  ...     15.220082      0.572426\n",
              "min     1970.000000     650.000000  ...      1.100000      0.000000\n",
              "25%     2016.000000   17450.000000  ...     45.600000      1.800000\n",
              "50%     2018.000000   22480.000000  ...     56.500000      2.000000\n",
              "75%     2019.000000   28980.000000  ...     64.200000      2.100000\n",
              "max     2020.000000  159999.000000  ...    217.300000      6.200000\n",
              "\n",
              "[8 rows x 6 columns]"
            ]
          },
          "metadata": {},
          "execution_count": 8
        }
      ]
    },
    {
      "cell_type": "code",
      "metadata": {
        "colab": {
          "base_uri": "https://localhost:8080/"
        },
        "id": "iBzKA1rSmBqA",
        "outputId": "a6cb8b3a-a4a4-4e52-8f8f-565193e55159"
      },
      "source": [
        "dataFrame.isnull().sum()"
      ],
      "execution_count": null,
      "outputs": [
        {
          "output_type": "execute_result",
          "data": {
            "text/plain": [
              "year            0\n",
              "price           0\n",
              "transmission    0\n",
              "mileage         0\n",
              "tax             0\n",
              "mpg             0\n",
              "engineSize      0\n",
              "dtype: int64"
            ]
          },
          "metadata": {},
          "execution_count": 9
        }
      ]
    },
    {
      "cell_type": "code",
      "metadata": {
        "colab": {
          "base_uri": "https://localhost:8080/",
          "height": 415
        },
        "id": "LhyAt7ezmFjR",
        "outputId": "e5c291f2-b8e2-4d19-b396-048dc3f3d18a"
      },
      "source": [
        "plt.figure(figsize=(7,5))\n",
        "sbn.distplot(dataFrame[\"price\"])"
      ],
      "execution_count": null,
      "outputs": [
        {
          "output_type": "stream",
          "name": "stderr",
          "text": [
            "/usr/local/lib/python3.7/dist-packages/seaborn/distributions.py:2619: FutureWarning: `distplot` is a deprecated function and will be removed in a future version. Please adapt your code to use either `displot` (a figure-level function with similar flexibility) or `histplot` (an axes-level function for histograms).\n",
            "  warnings.warn(msg, FutureWarning)\n"
          ]
        },
        {
          "output_type": "execute_result",
          "data": {
            "text/plain": [
              "<matplotlib.axes._subplots.AxesSubplot at 0x7fc8f4261510>"
            ]
          },
          "metadata": {},
          "execution_count": 10
        },
        {
          "output_type": "display_data",
          "data": {
            "image/png": "[encoded data removed]",
            "text/plain": [
              "<Figure size 504x360 with 1 Axes>"
            ]
          },
          "metadata": {
            "needs_background": "light"
          }
        }
      ]
    },
    {
      "cell_type": "code",
      "metadata": {
        "colab": {
          "base_uri": "https://localhost:8080/",
          "height": 350
        },
        "id": "SeeE8stootRd",
        "outputId": "2e4bdc1d-21b5-497c-c507-8caf414d7de0"
      },
      "source": [
        "sbn.countplot(dataFrame[\"year\"])"
      ],
      "execution_count": null,
      "outputs": [
        {
          "output_type": "stream",
          "name": "stderr",
          "text": [
            "/usr/local/lib/python3.7/dist-packages/seaborn/_decorators.py:43: FutureWarning: Pass the following variable as a keyword arg: x. From version 0.12, the only valid positional argument will be `data`, and passing other arguments without an explicit keyword will result in an error or misinterpretation.\n",
            "  FutureWarning\n"
          ]
        },
        {
          "output_type": "execute_result",
          "data": {
            "text/plain": [
              "<matplotlib.axes._subplots.AxesSubplot at 0x7fc9091b2f90>"
            ]
          },
          "metadata": {},
          "execution_count": 11
        },
        {
          "output_type": "display_data",
          "data": {
            "image/png": "[encoded data removed]",
            "text/plain": [
              "<Figure size 432x288 with 1 Axes>"
            ]
          },
          "metadata": {
            "needs_background": "light"
          }
        }
      ]
    },
    {
      "cell_type": "code",
      "metadata": {
        "colab": {
          "base_uri": "https://localhost:8080/"
        },
        "id": "LAeJUylHo2EO",
        "outputId": "138c088c-193a-40f2-b25a-71aa38f534f8"
      },
      "source": [
        "dataFrame.corr()[\"price\"].sort_values()"
      ],
      "execution_count": null,
      "outputs": [
        {
          "output_type": "execute_result",
          "data": {
            "text/plain": [
              "mileage      -0.537214\n",
              "mpg          -0.438445\n",
              "tax           0.268717\n",
              "engineSize    0.516126\n",
              "year          0.520712\n",
              "price         1.000000\n",
              "Name: price, dtype: float64"
            ]
          },
          "metadata": {},
          "execution_count": 12
        }
      ]
    },
    {
      "cell_type": "code",
      "metadata": {
        "colab": {
          "base_uri": "https://localhost:8080/",
          "height": 234
        },
        "id": "jwsdiAssqnq8",
        "outputId": "3f24ed45-1da5-4b2e-859d-95659c8a7864"
      },
      "source": [
        "dataFrame.corr()"
      ],
      "execution_count": null,
      "outputs": [
        {
          "output_type": "execute_result",
          "data": {
            "text/html": [
              "<div>\n",
              "<style scoped>\n",
              "    .dataframe tbody tr th:only-of-type {\n",
              "        vertical-align: middle;\n",
              "    }\n",
              "\n",
              "    .dataframe tbody tr th {\n",
              "        vertical-align: top;\n",
              "    }\n",
              "\n",
              "    .dataframe thead th {\n",
              "        text-align: right;\n",
              "    }\n",
              "</style>\n",
              "<table border=\"1\" class=\"dataframe\">\n",
              "  <thead>\n",
              "    <tr style=\"text-align: right;\">\n",
              "      <th></th>\n",
              "      <th>year</th>\n",
              "      <th>price</th>\n",
              "      <th>mileage</th>\n",
              "      <th>tax</th>\n",
              "      <th>mpg</th>\n",
              "      <th>engineSize</th>\n",
              "    </tr>\n",
              "  </thead>\n",
              "  <tbody>\n",
              "    <tr>\n",
              "      <th>year</th>\n",
              "      <td>1.000000</td>\n",
              "      <td>0.520712</td>\n",
              "      <td>-0.738027</td>\n",
              "      <td>0.012480</td>\n",
              "      <td>-0.094626</td>\n",
              "      <td>-0.142147</td>\n",
              "    </tr>\n",
              "    <tr>\n",
              "      <th>price</th>\n",
              "      <td>0.520712</td>\n",
              "      <td>1.000000</td>\n",
              "      <td>-0.537214</td>\n",
              "      <td>0.268717</td>\n",
              "      <td>-0.438445</td>\n",
              "      <td>0.516126</td>\n",
              "    </tr>\n",
              "    <tr>\n",
              "      <th>mileage</th>\n",
              "      <td>-0.738027</td>\n",
              "      <td>-0.537214</td>\n",
              "      <td>1.000000</td>\n",
              "      <td>-0.160223</td>\n",
              "      <td>0.202850</td>\n",
              "      <td>0.063652</td>\n",
              "    </tr>\n",
              "    <tr>\n",
              "      <th>tax</th>\n",
              "      <td>0.012480</td>\n",
              "      <td>0.268717</td>\n",
              "      <td>-0.160223</td>\n",
              "      <td>1.000000</td>\n",
              "      <td>-0.513742</td>\n",
              "      <td>0.338341</td>\n",
              "    </tr>\n",
              "    <tr>\n",
              "      <th>mpg</th>\n",
              "      <td>-0.094626</td>\n",
              "      <td>-0.438445</td>\n",
              "      <td>0.202850</td>\n",
              "      <td>-0.513742</td>\n",
              "      <td>1.000000</td>\n",
              "      <td>-0.339862</td>\n",
              "    </tr>\n",
              "    <tr>\n",
              "      <th>engineSize</th>\n",
              "      <td>-0.142147</td>\n",
              "      <td>0.516126</td>\n",
              "      <td>0.063652</td>\n",
              "      <td>0.338341</td>\n",
              "      <td>-0.339862</td>\n",
              "      <td>1.000000</td>\n",
              "    </tr>\n",
              "  </tbody>\n",
              "</table>\n",
              "</div>"
            ],
            "text/plain": [
              "                year     price   mileage       tax       mpg  engineSize\n",
              "year        1.000000  0.520712 -0.738027  0.012480 -0.094626   -0.142147\n",
              "price       0.520712  1.000000 -0.537214  0.268717 -0.438445    0.516126\n",
              "mileage    -0.738027 -0.537214  1.000000 -0.160223  0.202850    0.063652\n",
              "tax         0.012480  0.268717 -0.160223  1.000000 -0.513742    0.338341\n",
              "mpg        -0.094626 -0.438445  0.202850 -0.513742  1.000000   -0.339862\n",
              "engineSize -0.142147  0.516126  0.063652  0.338341 -0.339862    1.000000"
            ]
          },
          "metadata": {},
          "execution_count": 13
        }
      ]
    },
    {
      "cell_type": "code",
      "metadata": {
        "id": "mRyuCdpYqvMs",
        "colab": {
          "base_uri": "https://localhost:8080/",
          "height": 296
        },
        "outputId": "147563c0-d69f-42f6-fb72-6d478e133c2e"
      },
      "source": [
        "sbn.scatterplot(x=\"mileage\", y=\"price\", data=dataFrame)"
      ],
      "execution_count": null,
      "outputs": [
        {
          "output_type": "execute_result",
          "data": {
            "text/plain": [
              "<matplotlib.axes._subplots.AxesSubplot at 0x7fc8f44c0f90>"
            ]
          },
          "metadata": {},
          "execution_count": 14
        },
        {
          "output_type": "display_data",
          "data": {
            "image/png": "[encoded data removed]",
            "text/plain": [
              "<Figure size 432x288 with 1 Axes>"
            ]
          },
          "metadata": {
            "needs_background": "light"
          }
        }
      ]
    },
    {
      "cell_type": "code",
      "metadata": {
        "colab": {
          "base_uri": "https://localhost:8080/",
          "height": 665
        },
        "id": "dM9aqwT7ztwO",
        "outputId": "9eb7e212-f0f5-4f20-e8f4-2f3298b26c40"
      },
      "source": [
        "dataFrame.sort_values(\"price\",ascending= False).head(20)"
      ],
      "execution_count": null,
      "outputs": [
        {
          "output_type": "execute_result",
          "data": {
            "text/html": [
              "<div>\n",
              "<style scoped>\n",
              "    .dataframe tbody tr th:only-of-type {\n",
              "        vertical-align: middle;\n",
              "    }\n",
              "\n",
              "    .dataframe tbody tr th {\n",
              "        vertical-align: top;\n",
              "    }\n",
              "\n",
              "    .dataframe thead th {\n",
              "        text-align: right;\n",
              "    }\n",
              "</style>\n",
              "<table border=\"1\" class=\"dataframe\">\n",
              "  <thead>\n",
              "    <tr style=\"text-align: right;\">\n",
              "      <th></th>\n",
              "      <th>year</th>\n",
              "      <th>price</th>\n",
              "      <th>transmission</th>\n",
              "      <th>mileage</th>\n",
              "      <th>tax</th>\n",
              "      <th>mpg</th>\n",
              "      <th>engineSize</th>\n",
              "    </tr>\n",
              "  </thead>\n",
              "  <tbody>\n",
              "    <tr>\n",
              "      <th>6199</th>\n",
              "      <td>2020</td>\n",
              "      <td>159999</td>\n",
              "      <td>Semi-Auto</td>\n",
              "      <td>1350</td>\n",
              "      <td>145</td>\n",
              "      <td>21.4</td>\n",
              "      <td>4.0</td>\n",
              "    </tr>\n",
              "    <tr>\n",
              "      <th>10044</th>\n",
              "      <td>2020</td>\n",
              "      <td>154998</td>\n",
              "      <td>Automatic</td>\n",
              "      <td>3000</td>\n",
              "      <td>150</td>\n",
              "      <td>21.4</td>\n",
              "      <td>4.0</td>\n",
              "    </tr>\n",
              "    <tr>\n",
              "      <th>5</th>\n",
              "      <td>2011</td>\n",
              "      <td>149948</td>\n",
              "      <td>Automatic</td>\n",
              "      <td>3000</td>\n",
              "      <td>570</td>\n",
              "      <td>21.4</td>\n",
              "      <td>6.2</td>\n",
              "    </tr>\n",
              "    <tr>\n",
              "      <th>8737</th>\n",
              "      <td>2019</td>\n",
              "      <td>140319</td>\n",
              "      <td>Semi-Auto</td>\n",
              "      <td>785</td>\n",
              "      <td>150</td>\n",
              "      <td>22.1</td>\n",
              "      <td>4.0</td>\n",
              "    </tr>\n",
              "    <tr>\n",
              "      <th>6386</th>\n",
              "      <td>2018</td>\n",
              "      <td>139995</td>\n",
              "      <td>Semi-Auto</td>\n",
              "      <td>13046</td>\n",
              "      <td>145</td>\n",
              "      <td>21.4</td>\n",
              "      <td>4.0</td>\n",
              "    </tr>\n",
              "    <tr>\n",
              "      <th>8</th>\n",
              "      <td>2019</td>\n",
              "      <td>139948</td>\n",
              "      <td>Automatic</td>\n",
              "      <td>12000</td>\n",
              "      <td>145</td>\n",
              "      <td>21.4</td>\n",
              "      <td>4.0</td>\n",
              "    </tr>\n",
              "    <tr>\n",
              "      <th>9133</th>\n",
              "      <td>2019</td>\n",
              "      <td>139559</td>\n",
              "      <td>Semi-Auto</td>\n",
              "      <td>1000</td>\n",
              "      <td>145</td>\n",
              "      <td>22.1</td>\n",
              "      <td>4.0</td>\n",
              "    </tr>\n",
              "    <tr>\n",
              "      <th>8821</th>\n",
              "      <td>2020</td>\n",
              "      <td>138439</td>\n",
              "      <td>Semi-Auto</td>\n",
              "      <td>1000</td>\n",
              "      <td>145</td>\n",
              "      <td>22.1</td>\n",
              "      <td>4.0</td>\n",
              "    </tr>\n",
              "    <tr>\n",
              "      <th>5902</th>\n",
              "      <td>2018</td>\n",
              "      <td>135771</td>\n",
              "      <td>Semi-Auto</td>\n",
              "      <td>19000</td>\n",
              "      <td>145</td>\n",
              "      <td>21.4</td>\n",
              "      <td>4.0</td>\n",
              "    </tr>\n",
              "    <tr>\n",
              "      <th>7864</th>\n",
              "      <td>2018</td>\n",
              "      <td>135124</td>\n",
              "      <td>Semi-Auto</td>\n",
              "      <td>18234</td>\n",
              "      <td>150</td>\n",
              "      <td>21.4</td>\n",
              "      <td>4.0</td>\n",
              "    </tr>\n",
              "    <tr>\n",
              "      <th>8673</th>\n",
              "      <td>2019</td>\n",
              "      <td>134219</td>\n",
              "      <td>Semi-Auto</td>\n",
              "      <td>1000</td>\n",
              "      <td>145</td>\n",
              "      <td>24.8</td>\n",
              "      <td>4.0</td>\n",
              "    </tr>\n",
              "    <tr>\n",
              "      <th>6210</th>\n",
              "      <td>2019</td>\n",
              "      <td>129990</td>\n",
              "      <td>Automatic</td>\n",
              "      <td>1000</td>\n",
              "      <td>145</td>\n",
              "      <td>24.8</td>\n",
              "      <td>4.0</td>\n",
              "    </tr>\n",
              "    <tr>\n",
              "      <th>4759</th>\n",
              "      <td>2019</td>\n",
              "      <td>126000</td>\n",
              "      <td>Automatic</td>\n",
              "      <td>250</td>\n",
              "      <td>145</td>\n",
              "      <td>24.6</td>\n",
              "      <td>4.0</td>\n",
              "    </tr>\n",
              "    <tr>\n",
              "      <th>2647</th>\n",
              "      <td>2019</td>\n",
              "      <td>125796</td>\n",
              "      <td>Automatic</td>\n",
              "      <td>637</td>\n",
              "      <td>145</td>\n",
              "      <td>24.8</td>\n",
              "      <td>4.0</td>\n",
              "    </tr>\n",
              "    <tr>\n",
              "      <th>6223</th>\n",
              "      <td>2019</td>\n",
              "      <td>124999</td>\n",
              "      <td>Automatic</td>\n",
              "      <td>1500</td>\n",
              "      <td>145</td>\n",
              "      <td>31.7</td>\n",
              "      <td>4.0</td>\n",
              "    </tr>\n",
              "    <tr>\n",
              "      <th>4094</th>\n",
              "      <td>2019</td>\n",
              "      <td>124366</td>\n",
              "      <td>Semi-Auto</td>\n",
              "      <td>880</td>\n",
              "      <td>145</td>\n",
              "      <td>24.8</td>\n",
              "      <td>4.0</td>\n",
              "    </tr>\n",
              "    <tr>\n",
              "      <th>2629</th>\n",
              "      <td>2019</td>\n",
              "      <td>123846</td>\n",
              "      <td>Semi-Auto</td>\n",
              "      <td>2951</td>\n",
              "      <td>145</td>\n",
              "      <td>22.1</td>\n",
              "      <td>4.0</td>\n",
              "    </tr>\n",
              "    <tr>\n",
              "      <th>7134</th>\n",
              "      <td>2019</td>\n",
              "      <td>115359</td>\n",
              "      <td>Semi-Auto</td>\n",
              "      <td>1000</td>\n",
              "      <td>145</td>\n",
              "      <td>30.1</td>\n",
              "      <td>4.0</td>\n",
              "    </tr>\n",
              "    <tr>\n",
              "      <th>9159</th>\n",
              "      <td>2019</td>\n",
              "      <td>114199</td>\n",
              "      <td>Semi-Auto</td>\n",
              "      <td>891</td>\n",
              "      <td>145</td>\n",
              "      <td>22.6</td>\n",
              "      <td>4.0</td>\n",
              "    </tr>\n",
              "    <tr>\n",
              "      <th>1980</th>\n",
              "      <td>2019</td>\n",
              "      <td>109995</td>\n",
              "      <td>Semi-Auto</td>\n",
              "      <td>4688</td>\n",
              "      <td>150</td>\n",
              "      <td>31.7</td>\n",
              "      <td>4.0</td>\n",
              "    </tr>\n",
              "  </tbody>\n",
              "</table>\n",
              "</div>"
            ],
            "text/plain": [
              "       year   price transmission  mileage  tax   mpg  engineSize\n",
              "6199   2020  159999    Semi-Auto     1350  145  21.4         4.0\n",
              "10044  2020  154998    Automatic     3000  150  21.4         4.0\n",
              "5      2011  149948    Automatic     3000  570  21.4         6.2\n",
              "8737   2019  140319    Semi-Auto      785  150  22.1         4.0\n",
              "6386   2018  139995    Semi-Auto    13046  145  21.4         4.0\n",
              "8      2019  139948    Automatic    12000  145  21.4         4.0\n",
              "9133   2019  139559    Semi-Auto     1000  145  22.1         4.0\n",
              "8821   2020  138439    Semi-Auto     1000  145  22.1         4.0\n",
              "5902   2018  135771    Semi-Auto    19000  145  21.4         4.0\n",
              "7864   2018  135124    Semi-Auto    18234  150  21.4         4.0\n",
              "8673   2019  134219    Semi-Auto     1000  145  24.8         4.0\n",
              "6210   2019  129990    Automatic     1000  145  24.8         4.0\n",
              "4759   2019  126000    Automatic      250  145  24.6         4.0\n",
              "2647   2019  125796    Automatic      637  145  24.8         4.0\n",
              "6223   2019  124999    Automatic     1500  145  31.7         4.0\n",
              "4094   2019  124366    Semi-Auto      880  145  24.8         4.0\n",
              "2629   2019  123846    Semi-Auto     2951  145  22.1         4.0\n",
              "7134   2019  115359    Semi-Auto     1000  145  30.1         4.0\n",
              "9159   2019  114199    Semi-Auto      891  145  22.6         4.0\n",
              "1980   2019  109995    Semi-Auto     4688  150  31.7         4.0"
            ]
          },
          "metadata": {},
          "execution_count": 15
        }
      ]
    },
    {
      "cell_type": "code",
      "metadata": {
        "colab": {
          "base_uri": "https://localhost:8080/"
        },
        "id": "73mhHRga0_cA",
        "outputId": "40498fe5-2552-492d-b6a7-1ed2d1fe3878"
      },
      "source": [
        "len(dataFrame)"
      ],
      "execution_count": null,
      "outputs": [
        {
          "output_type": "execute_result",
          "data": {
            "text/plain": [
              "13119"
            ]
          },
          "metadata": {},
          "execution_count": 16
        }
      ]
    },
    {
      "cell_type": "code",
      "metadata": {
        "colab": {
          "base_uri": "https://localhost:8080/"
        },
        "id": "tNdrVw6t1T0D",
        "outputId": "035235f5-a90b-48fc-d075-37d963366ed2"
      },
      "source": [
        "len(dataFrame) * 0.01"
      ],
      "execution_count": null,
      "outputs": [
        {
          "output_type": "execute_result",
          "data": {
            "text/plain": [
              "131.19"
            ]
          },
          "metadata": {},
          "execution_count": 17
        }
      ]
    },
    {
      "cell_type": "code",
      "metadata": {
        "id": "82z7L1TA1XNz"
      },
      "source": [
        "clearData=dataFrame.sort_values(\"price\", ascending= False).iloc[131:]"
      ],
      "execution_count": null,
      "outputs": []
    },
    {
      "cell_type": "code",
      "metadata": {
        "colab": {
          "base_uri": "https://localhost:8080/"
        },
        "id": "aXU0qoSf26PH",
        "outputId": "37f1cfef-9c84-4228-c613-517b94d9903d"
      },
      "source": [
        "clearData.groupby(\"year\").mean()[\"price\"]"
      ],
      "execution_count": null,
      "outputs": [
        {
          "output_type": "execute_result",
          "data": {
            "text/plain": [
              "year\n",
              "1970    24999.000000\n",
              "1997     9995.000000\n",
              "1998     8605.000000\n",
              "1999     5995.000000\n",
              "2000     5743.333333\n",
              "2001     4957.900000\n",
              "2002     5820.444444\n",
              "2003     4878.000000\n",
              "2004     4727.615385\n",
              "2005     4426.111111\n",
              "2006     4036.875000\n",
              "2007     5136.045455\n",
              "2008     6967.437500\n",
              "2009     6166.764706\n",
              "2010     8308.473684\n",
              "2011     8913.459459\n",
              "2012    10845.140351\n",
              "2013    11939.842466\n",
              "2014    14042.936864\n",
              "2015    16647.822222\n",
              "2016    19223.558943\n",
              "2017    21356.280421\n",
              "2018    24800.844506\n",
              "2019    30289.524832\n",
              "2020    34234.794872\n",
              "Name: price, dtype: float64"
            ]
          },
          "metadata": {},
          "execution_count": 19
        }
      ]
    },
    {
      "cell_type": "code",
      "metadata": {
        "colab": {
          "base_uri": "https://localhost:8080/"
        },
        "id": "f-HDp8-K3MdJ",
        "outputId": "eccf1fc0-e8cc-4ed6-cffd-47eb129d3209"
      },
      "source": [
        "clearData[clearData.year != 1970].groupby(\"year\").mean()[\"price\"]"
      ],
      "execution_count": null,
      "outputs": [
        {
          "output_type": "execute_result",
          "data": {
            "text/plain": [
              "year\n",
              "1997     9995.000000\n",
              "1998     8605.000000\n",
              "1999     5995.000000\n",
              "2000     5743.333333\n",
              "2001     4957.900000\n",
              "2002     5820.444444\n",
              "2003     4878.000000\n",
              "2004     4727.615385\n",
              "2005     4426.111111\n",
              "2006     4036.875000\n",
              "2007     5136.045455\n",
              "2008     6967.437500\n",
              "2009     6166.764706\n",
              "2010     8308.473684\n",
              "2011     8913.459459\n",
              "2012    10845.140351\n",
              "2013    11939.842466\n",
              "2014    14042.936864\n",
              "2015    16647.822222\n",
              "2016    19223.558943\n",
              "2017    21356.280421\n",
              "2018    24800.844506\n",
              "2019    30289.524832\n",
              "2020    34234.794872\n",
              "Name: price, dtype: float64"
            ]
          },
          "metadata": {},
          "execution_count": 20
        }
      ]
    },
    {
      "cell_type": "code",
      "metadata": {
        "id": "Gcsi9Tiw3nrl"
      },
      "source": [
        "clearData = clearData[clearData.year != 1970]"
      ],
      "execution_count": null,
      "outputs": []
    },
    {
      "cell_type": "code",
      "metadata": {
        "colab": {
          "base_uri": "https://localhost:8080/",
          "height": 295
        },
        "id": "Skd-gzYU3s88",
        "outputId": "7356b806-100b-47e5-987a-44bf4caa277a"
      },
      "source": [
        "clearData.describe()"
      ],
      "execution_count": null,
      "outputs": [
        {
          "output_type": "execute_result",
          "data": {
            "text/html": [
              "<div>\n",
              "<style scoped>\n",
              "    .dataframe tbody tr th:only-of-type {\n",
              "        vertical-align: middle;\n",
              "    }\n",
              "\n",
              "    .dataframe tbody tr th {\n",
              "        vertical-align: top;\n",
              "    }\n",
              "\n",
              "    .dataframe thead th {\n",
              "        text-align: right;\n",
              "    }\n",
              "</style>\n",
              "<table border=\"1\" class=\"dataframe\">\n",
              "  <thead>\n",
              "    <tr style=\"text-align: right;\">\n",
              "      <th></th>\n",
              "      <th>year</th>\n",
              "      <th>price</th>\n",
              "      <th>mileage</th>\n",
              "      <th>tax</th>\n",
              "      <th>mpg</th>\n",
              "      <th>engineSize</th>\n",
              "    </tr>\n",
              "  </thead>\n",
              "  <tbody>\n",
              "    <tr>\n",
              "      <th>count</th>\n",
              "      <td>12987.000000</td>\n",
              "      <td>12987.000000</td>\n",
              "      <td>12987.000000</td>\n",
              "      <td>12987.000000</td>\n",
              "      <td>12987.000000</td>\n",
              "      <td>12987.000000</td>\n",
              "    </tr>\n",
              "    <tr>\n",
              "      <th>mean</th>\n",
              "      <td>2017.285516</td>\n",
              "      <td>24074.855779</td>\n",
              "      <td>22133.367367</td>\n",
              "      <td>129.676215</td>\n",
              "      <td>55.438392</td>\n",
              "      <td>2.051059</td>\n",
              "    </tr>\n",
              "    <tr>\n",
              "      <th>std</th>\n",
              "      <td>2.189633</td>\n",
              "      <td>9866.601115</td>\n",
              "      <td>21197.472376</td>\n",
              "      <td>65.167429</td>\n",
              "      <td>15.025902</td>\n",
              "      <td>0.532313</td>\n",
              "    </tr>\n",
              "    <tr>\n",
              "      <th>min</th>\n",
              "      <td>1997.000000</td>\n",
              "      <td>650.000000</td>\n",
              "      <td>1.000000</td>\n",
              "      <td>0.000000</td>\n",
              "      <td>1.100000</td>\n",
              "      <td>0.000000</td>\n",
              "    </tr>\n",
              "    <tr>\n",
              "      <th>25%</th>\n",
              "      <td>2016.000000</td>\n",
              "      <td>17355.000000</td>\n",
              "      <td>6320.000000</td>\n",
              "      <td>125.000000</td>\n",
              "      <td>45.600000</td>\n",
              "      <td>1.700000</td>\n",
              "    </tr>\n",
              "    <tr>\n",
              "      <th>50%</th>\n",
              "      <td>2018.000000</td>\n",
              "      <td>22299.000000</td>\n",
              "      <td>15371.000000</td>\n",
              "      <td>145.000000</td>\n",
              "      <td>56.500000</td>\n",
              "      <td>2.000000</td>\n",
              "    </tr>\n",
              "    <tr>\n",
              "      <th>75%</th>\n",
              "      <td>2019.000000</td>\n",
              "      <td>28706.000000</td>\n",
              "      <td>31986.500000</td>\n",
              "      <td>145.000000</td>\n",
              "      <td>64.200000</td>\n",
              "      <td>2.100000</td>\n",
              "    </tr>\n",
              "    <tr>\n",
              "      <th>max</th>\n",
              "      <td>2020.000000</td>\n",
              "      <td>65990.000000</td>\n",
              "      <td>259000.000000</td>\n",
              "      <td>580.000000</td>\n",
              "      <td>217.300000</td>\n",
              "      <td>6.200000</td>\n",
              "    </tr>\n",
              "  </tbody>\n",
              "</table>\n",
              "</div>"
            ],
            "text/plain": [
              "               year         price  ...           mpg    engineSize\n",
              "count  12987.000000  12987.000000  ...  12987.000000  12987.000000\n",
              "mean    2017.285516  24074.855779  ...     55.438392      2.051059\n",
              "std        2.189633   9866.601115  ...     15.025902      0.532313\n",
              "min     1997.000000    650.000000  ...      1.100000      0.000000\n",
              "25%     2016.000000  17355.000000  ...     45.600000      1.700000\n",
              "50%     2018.000000  22299.000000  ...     56.500000      2.000000\n",
              "75%     2019.000000  28706.000000  ...     64.200000      2.100000\n",
              "max     2020.000000  65990.000000  ...    217.300000      6.200000\n",
              "\n",
              "[8 rows x 6 columns]"
            ]
          },
          "metadata": {},
          "execution_count": 22
        }
      ]
    },
    {
      "cell_type": "code",
      "metadata": {
        "colab": {
          "base_uri": "https://localhost:8080/",
          "height": 361
        },
        "id": "_HOuLBkP3wI8",
        "outputId": "2f6ab666-4e79-45b7-848c-def56e5e78bc"
      },
      "source": [
        "sbn.distplot(clearData[\"price\"])"
      ],
      "execution_count": null,
      "outputs": [
        {
          "output_type": "stream",
          "name": "stderr",
          "text": [
            "/usr/local/lib/python3.7/dist-packages/seaborn/distributions.py:2619: FutureWarning: `distplot` is a deprecated function and will be removed in a future version. Please adapt your code to use either `displot` (a figure-level function with similar flexibility) or `histplot` (an axes-level function for histograms).\n",
            "  warnings.warn(msg, FutureWarning)\n"
          ]
        },
        {
          "output_type": "execute_result",
          "data": {
            "text/plain": [
              "<matplotlib.axes._subplots.AxesSubplot at 0x7fc8f442ce50>"
            ]
          },
          "metadata": {},
          "execution_count": 23
        },
        {
          "output_type": "display_data",
          "data": {
            "image/png": "[encoded data removed]",
            "text/plain": [
              "<Figure size 432x288 with 1 Axes>"
            ]
          },
          "metadata": {
            "needs_background": "light"
          }
        }
      ]
    },
    {
      "cell_type": "code",
      "metadata": {
        "id": "Xc-o-y8Y4FL_"
      },
      "source": [
        "clearData = clearData.drop(\"transmission\",axis=1)"
      ],
      "execution_count": null,
      "outputs": []
    },
    {
      "cell_type": "code",
      "metadata": {
        "colab": {
          "base_uri": "https://localhost:8080/",
          "height": 203
        },
        "id": "MAjP1sm-4qC6",
        "outputId": "4a3a57fd-995f-4aa9-dbdc-bc1fb87214b6"
      },
      "source": [
        "clearData.head()"
      ],
      "execution_count": null,
      "outputs": [
        {
          "output_type": "execute_result",
          "data": {
            "text/html": [
              "<div>\n",
              "<style scoped>\n",
              "    .dataframe tbody tr th:only-of-type {\n",
              "        vertical-align: middle;\n",
              "    }\n",
              "\n",
              "    .dataframe tbody tr th {\n",
              "        vertical-align: top;\n",
              "    }\n",
              "\n",
              "    .dataframe thead th {\n",
              "        text-align: right;\n",
              "    }\n",
              "</style>\n",
              "<table border=\"1\" class=\"dataframe\">\n",
              "  <thead>\n",
              "    <tr style=\"text-align: right;\">\n",
              "      <th></th>\n",
              "      <th>year</th>\n",
              "      <th>price</th>\n",
              "      <th>mileage</th>\n",
              "      <th>tax</th>\n",
              "      <th>mpg</th>\n",
              "      <th>engineSize</th>\n",
              "    </tr>\n",
              "  </thead>\n",
              "  <tbody>\n",
              "    <tr>\n",
              "      <th>6177</th>\n",
              "      <td>2019</td>\n",
              "      <td>65990</td>\n",
              "      <td>5076</td>\n",
              "      <td>150</td>\n",
              "      <td>30.4</td>\n",
              "      <td>3.0</td>\n",
              "    </tr>\n",
              "    <tr>\n",
              "      <th>5779</th>\n",
              "      <td>2020</td>\n",
              "      <td>65990</td>\n",
              "      <td>999</td>\n",
              "      <td>145</td>\n",
              "      <td>28.0</td>\n",
              "      <td>4.0</td>\n",
              "    </tr>\n",
              "    <tr>\n",
              "      <th>3191</th>\n",
              "      <td>2020</td>\n",
              "      <td>65980</td>\n",
              "      <td>3999</td>\n",
              "      <td>145</td>\n",
              "      <td>28.0</td>\n",
              "      <td>4.0</td>\n",
              "    </tr>\n",
              "    <tr>\n",
              "      <th>4727</th>\n",
              "      <td>2019</td>\n",
              "      <td>65000</td>\n",
              "      <td>3398</td>\n",
              "      <td>145</td>\n",
              "      <td>27.2</td>\n",
              "      <td>4.0</td>\n",
              "    </tr>\n",
              "    <tr>\n",
              "      <th>8814</th>\n",
              "      <td>2019</td>\n",
              "      <td>64999</td>\n",
              "      <td>119</td>\n",
              "      <td>145</td>\n",
              "      <td>40.9</td>\n",
              "      <td>3.0</td>\n",
              "    </tr>\n",
              "  </tbody>\n",
              "</table>\n",
              "</div>"
            ],
            "text/plain": [
              "      year  price  mileage  tax   mpg  engineSize\n",
              "6177  2019  65990     5076  150  30.4         3.0\n",
              "5779  2020  65990      999  145  28.0         4.0\n",
              "3191  2020  65980     3999  145  28.0         4.0\n",
              "4727  2019  65000     3398  145  27.2         4.0\n",
              "8814  2019  64999      119  145  40.9         3.0"
            ]
          },
          "metadata": {},
          "execution_count": 25
        }
      ]
    },
    {
      "cell_type": "code",
      "metadata": {
        "id": "HB4FNEiM4soE"
      },
      "source": [
        "dataFrame = clearData"
      ],
      "execution_count": null,
      "outputs": []
    },
    {
      "cell_type": "code",
      "metadata": {
        "id": "17yERIAY40T8"
      },
      "source": [
        "## Train"
      ],
      "execution_count": null,
      "outputs": []
    },
    {
      "cell_type": "code",
      "metadata": {
        "id": "fH-w_x0k6mvZ"
      },
      "source": [
        "y = dataFrame[\"price\"].values\n",
        "x = dataFrame.drop(\"price\", axis=1).values"
      ],
      "execution_count": null,
      "outputs": []
    },
    {
      "cell_type": "code",
      "metadata": {
        "colab": {
          "base_uri": "https://localhost:8080/"
        },
        "id": "g2ckscVj6skT",
        "outputId": "68a2e57b-9e9b-41ea-e53a-06bdde2b12de"
      },
      "source": [
        "x"
      ],
      "execution_count": null,
      "outputs": [
        {
          "output_type": "execute_result",
          "data": {
            "text/plain": [
              "array([[2.01900e+03, 5.07600e+03, 1.50000e+02, 3.04000e+01, 3.00000e+00],\n",
              "       [2.02000e+03, 9.99000e+02, 1.45000e+02, 2.80000e+01, 4.00000e+00],\n",
              "       [2.02000e+03, 3.99900e+03, 1.45000e+02, 2.80000e+01, 4.00000e+00],\n",
              "       ...,\n",
              "       [2.00000e+03, 8.70000e+04, 2.65000e+02, 2.72000e+01, 3.20000e+00],\n",
              "       [2.01000e+03, 1.16126e+05, 1.45000e+02, 5.43000e+01, 2.00000e+00],\n",
              "       [2.00300e+03, 1.09090e+05, 2.35000e+02, 4.00000e+01, 1.40000e+00]])"
            ]
          },
          "metadata": {},
          "execution_count": 29
        }
      ]
    },
    {
      "cell_type": "code",
      "metadata": {
        "colab": {
          "base_uri": "https://localhost:8080/"
        },
        "id": "09bRGtaC9S0v",
        "outputId": "72e6d098-86d5-4519-d638-b0e7789b5220"
      },
      "source": [
        "y"
      ],
      "execution_count": null,
      "outputs": [
        {
          "output_type": "execute_result",
          "data": {
            "text/plain": [
              "array([65990, 65990, 65980, ...,  1490,  1350,   650])"
            ]
          },
          "metadata": {},
          "execution_count": 30
        }
      ]
    },
    {
      "cell_type": "code",
      "metadata": {
        "id": "y3yXbDwJ9TlO"
      },
      "source": [
        "from sklearn.model_selection import train_test_split"
      ],
      "execution_count": null,
      "outputs": []
    },
    {
      "cell_type": "code",
      "metadata": {
        "id": "kbztV9gI9gdY"
      },
      "source": [
        "x_train, x_test, y_train, y_test = train_test_split(x,y,test_size=0.3, random_state=10)"
      ],
      "execution_count": null,
      "outputs": []
    },
    {
      "cell_type": "code",
      "metadata": {
        "colab": {
          "base_uri": "https://localhost:8080/"
        },
        "id": "vQcnTnTM9zBr",
        "outputId": "196e4571-cfa8-4a27-d76a-7bd52059c6d0"
      },
      "source": [
        "len(x_train)"
      ],
      "execution_count": null,
      "outputs": [
        {
          "output_type": "execute_result",
          "data": {
            "text/plain": [
              "9090"
            ]
          },
          "metadata": {},
          "execution_count": 33
        }
      ]
    },
    {
      "cell_type": "code",
      "metadata": {
        "colab": {
          "base_uri": "https://localhost:8080/"
        },
        "id": "cs289Stv91xq",
        "outputId": "6d135262-2607-41b6-c545-a1cc6686b9d2"
      },
      "source": [
        "len(x_test)"
      ],
      "execution_count": null,
      "outputs": [
        {
          "output_type": "execute_result",
          "data": {
            "text/plain": [
              "3897"
            ]
          },
          "metadata": {},
          "execution_count": 34
        }
      ]
    },
    {
      "cell_type": "code",
      "metadata": {
        "id": "uGCiozWt93ZK"
      },
      "source": [
        "from sklearn.preprocessing import MinMaxScaler"
      ],
      "execution_count": null,
      "outputs": []
    },
    {
      "cell_type": "code",
      "metadata": {
        "id": "0QvNES0H-J3F"
      },
      "source": [
        "scaler = MinMaxScaler()"
      ],
      "execution_count": null,
      "outputs": []
    },
    {
      "cell_type": "code",
      "metadata": {
        "id": "63PX3oA9-Lkl"
      },
      "source": [
        "x_train = scaler.fit_transform(x_train)"
      ],
      "execution_count": null,
      "outputs": []
    },
    {
      "cell_type": "code",
      "metadata": {
        "id": "K9aX9O5P-QX1"
      },
      "source": [
        "x_test = scaler.fit_transform(x_test)"
      ],
      "execution_count": null,
      "outputs": []
    },
    {
      "cell_type": "code",
      "metadata": {
        "id": "YliJD2Kw-WVf"
      },
      "source": [
        "from tensorflow.keras.models import Sequential\n",
        "from tensorflow.keras.layers import Dense"
      ],
      "execution_count": null,
      "outputs": []
    },
    {
      "cell_type": "code",
      "metadata": {
        "colab": {
          "base_uri": "https://localhost:8080/"
        },
        "id": "nOJWI4cu-jVo",
        "outputId": "4d99ee23-e1a1-4caa-8557-16beeb77f45b"
      },
      "source": [
        "x_train.shape"
      ],
      "execution_count": null,
      "outputs": [
        {
          "output_type": "execute_result",
          "data": {
            "text/plain": [
              "(9090, 5)"
            ]
          },
          "metadata": {},
          "execution_count": 40
        }
      ]
    },
    {
      "cell_type": "code",
      "metadata": {
        "id": "cIFHo3rb-oTB"
      },
      "source": [
        "model = Sequential()\n",
        "\n",
        "model.add(Dense(12,activation=\"relu\"))\n",
        "model.add(Dense(12,activation=\"relu\"))\n",
        "model.add(Dense(12,activation=\"relu\"))\n",
        "model.add(Dense(12,activation=\"relu\"))\n",
        "\n",
        "model.add(Dense(1))\n",
        "\n",
        "model.compile(optimizer=\"adam\", loss=\"mse\")\n"
      ],
      "execution_count": null,
      "outputs": []
    },
    {
      "cell_type": "code",
      "metadata": {
        "colab": {
          "base_uri": "https://localhost:8080/"
        },
        "id": "U-G4wmbz--cL",
        "outputId": "2df8a1d5-329e-4e55-c224-3142837fd39e"
      },
      "source": [
        "model.fit(x=x_train, y= y_train,validation_data=(x_test,y_test),batch_size=250,epochs=300)"
      ],
      "execution_count": null,
      "outputs": [
        {
          "output_type": "stream",
          "name": "stdout",
          "text": [
            "Epoch 1/300\n",
            "37/37 [==============================] - 1s 6ms/step - loss: 672137856.0000 - val_loss: 688085312.0000\n",
            "Epoch 2/300\n",
            "37/37 [==============================] - 0s 3ms/step - loss: 672093056.0000 - val_loss: 688011520.0000\n",
            "Epoch 3/300\n",
            "37/37 [==============================] - 0s 4ms/step - loss: 671960576.0000 - val_loss: 687778560.0000\n",
            "Epoch 4/300\n",
            "37/37 [==============================] - 0s 3ms/step - loss: 671539584.0000 - val_loss: 687003328.0000\n",
            "Epoch 5/300\n",
            "37/37 [==============================] - 0s 3ms/step - loss: 670176000.0000 - val_loss: 684668032.0000\n",
            "Epoch 6/300\n",
            "37/37 [==============================] - 0s 2ms/step - loss: 666380352.0000 - val_loss: 678441728.0000\n",
            "Epoch 7/300\n",
            "37/37 [==============================] - 0s 3ms/step - loss: 656830336.0000 - val_loss: 663811968.0000\n",
            "Epoch 8/300\n",
            "37/37 [==============================] - 0s 3ms/step - loss: 636504064.0000 - val_loss: 635051136.0000\n",
            "Epoch 9/300\n",
            "37/37 [==============================] - 0s 3ms/step - loss: 599329792.0000 - val_loss: 585463744.0000\n",
            "Epoch 10/300\n",
            "37/37 [==============================] - 0s 3ms/step - loss: 538911872.0000 - val_loss: 509872512.0000\n",
            "Epoch 11/300\n",
            "37/37 [==============================] - 0s 3ms/step - loss: 452374848.0000 - val_loss: 408264896.0000\n",
            "Epoch 12/300\n",
            "37/37 [==============================] - 0s 3ms/step - loss: 344373856.0000 - val_loss: 291848800.0000\n",
            "Epoch 13/300\n",
            "37/37 [==============================] - 0s 3ms/step - loss: 233382336.0000 - val_loss: 187863056.0000\n",
            "Epoch 14/300\n",
            "37/37 [==============================] - 0s 3ms/step - loss: 148036592.0000 - val_loss: 124010104.0000\n",
            "Epoch 15/300\n",
            "37/37 [==============================] - 0s 3ms/step - loss: 105322360.0000 - val_loss: 100975112.0000\n",
            "Epoch 16/300\n",
            "37/37 [==============================] - 0s 3ms/step - loss: 93173776.0000 - val_loss: 96123176.0000\n",
            "Epoch 17/300\n",
            "37/37 [==============================] - 0s 3ms/step - loss: 90694856.0000 - val_loss: 94755192.0000\n",
            "Epoch 18/300\n",
            "37/37 [==============================] - 0s 2ms/step - loss: 89811536.0000 - val_loss: 93732896.0000\n",
            "Epoch 19/300\n",
            "37/37 [==============================] - 0s 2ms/step - loss: 89071328.0000 - val_loss: 92806256.0000\n",
            "Epoch 20/300\n",
            "37/37 [==============================] - 0s 2ms/step - loss: 88375664.0000 - val_loss: 91917184.0000\n",
            "Epoch 21/300\n",
            "37/37 [==============================] - 0s 3ms/step - loss: 87730440.0000 - val_loss: 91074752.0000\n",
            "Epoch 22/300\n",
            "37/37 [==============================] - 0s 2ms/step - loss: 87086888.0000 - val_loss: 90253904.0000\n",
            "Epoch 23/300\n",
            "37/37 [==============================] - 0s 3ms/step - loss: 86457752.0000 - val_loss: 89467976.0000\n",
            "Epoch 24/300\n",
            "37/37 [==============================] - 0s 3ms/step - loss: 85861608.0000 - val_loss: 88712696.0000\n",
            "Epoch 25/300\n",
            "37/37 [==============================] - 0s 3ms/step - loss: 85267664.0000 - val_loss: 87954536.0000\n",
            "Epoch 26/300\n",
            "37/37 [==============================] - 0s 2ms/step - loss: 84681600.0000 - val_loss: 87226376.0000\n",
            "Epoch 27/300\n",
            "37/37 [==============================] - 0s 3ms/step - loss: 84108232.0000 - val_loss: 86492792.0000\n",
            "Epoch 28/300\n",
            "37/37 [==============================] - 0s 3ms/step - loss: 83540136.0000 - val_loss: 85794720.0000\n",
            "Epoch 29/300\n",
            "37/37 [==============================] - 0s 3ms/step - loss: 82945936.0000 - val_loss: 85047216.0000\n",
            "Epoch 30/300\n",
            "37/37 [==============================] - 0s 2ms/step - loss: 82386832.0000 - val_loss: 84361120.0000\n",
            "Epoch 31/300\n",
            "37/37 [==============================] - 0s 2ms/step - loss: 81820624.0000 - val_loss: 83659648.0000\n",
            "Epoch 32/300\n",
            "37/37 [==============================] - 0s 3ms/step - loss: 81263944.0000 - val_loss: 82976760.0000\n",
            "Epoch 33/300\n",
            "37/37 [==============================] - 0s 2ms/step - loss: 80715368.0000 - val_loss: 82296320.0000\n",
            "Epoch 34/300\n",
            "37/37 [==============================] - 0s 3ms/step - loss: 80143280.0000 - val_loss: 81558584.0000\n",
            "Epoch 35/300\n",
            "37/37 [==============================] - 0s 2ms/step - loss: 79570208.0000 - val_loss: 80914528.0000\n",
            "Epoch 36/300\n",
            "37/37 [==============================] - 0s 3ms/step - loss: 79010912.0000 - val_loss: 80198160.0000\n",
            "Epoch 37/300\n",
            "37/37 [==============================] - 0s 2ms/step - loss: 78442928.0000 - val_loss: 79520192.0000\n",
            "Epoch 38/300\n",
            "37/37 [==============================] - 0s 3ms/step - loss: 77873888.0000 - val_loss: 78789808.0000\n",
            "Epoch 39/300\n",
            "37/37 [==============================] - 0s 3ms/step - loss: 77297104.0000 - val_loss: 78129168.0000\n",
            "Epoch 40/300\n",
            "37/37 [==============================] - 0s 3ms/step - loss: 76726568.0000 - val_loss: 77497680.0000\n",
            "Epoch 41/300\n",
            "37/37 [==============================] - 0s 2ms/step - loss: 76150536.0000 - val_loss: 76731528.0000\n",
            "Epoch 42/300\n",
            "37/37 [==============================] - 0s 2ms/step - loss: 75576168.0000 - val_loss: 76018672.0000\n",
            "Epoch 43/300\n",
            "37/37 [==============================] - 0s 3ms/step - loss: 74985112.0000 - val_loss: 75376184.0000\n",
            "Epoch 44/300\n",
            "37/37 [==============================] - 0s 3ms/step - loss: 74392376.0000 - val_loss: 74635720.0000\n",
            "Epoch 45/300\n",
            "37/37 [==============================] - 0s 2ms/step - loss: 73805520.0000 - val_loss: 74001776.0000\n",
            "Epoch 46/300\n",
            "37/37 [==============================] - 0s 3ms/step - loss: 73216104.0000 - val_loss: 73222880.0000\n",
            "Epoch 47/300\n",
            "37/37 [==============================] - 0s 2ms/step - loss: 72600240.0000 - val_loss: 72539280.0000\n",
            "Epoch 48/300\n",
            "37/37 [==============================] - 0s 3ms/step - loss: 71991472.0000 - val_loss: 71786072.0000\n",
            "Epoch 49/300\n",
            "37/37 [==============================] - 0s 2ms/step - loss: 71369448.0000 - val_loss: 71053944.0000\n",
            "Epoch 50/300\n",
            "37/37 [==============================] - 0s 2ms/step - loss: 70738144.0000 - val_loss: 70345456.0000\n",
            "Epoch 51/300\n",
            "37/37 [==============================] - 0s 2ms/step - loss: 70101000.0000 - val_loss: 69623560.0000\n",
            "Epoch 52/300\n",
            "37/37 [==============================] - 0s 3ms/step - loss: 69467016.0000 - val_loss: 68813608.0000\n",
            "Epoch 53/300\n",
            "37/37 [==============================] - 0s 2ms/step - loss: 68809056.0000 - val_loss: 68161064.0000\n",
            "Epoch 54/300\n",
            "37/37 [==============================] - 0s 2ms/step - loss: 68160376.0000 - val_loss: 67378304.0000\n",
            "Epoch 55/300\n",
            "37/37 [==============================] - 0s 3ms/step - loss: 67502896.0000 - val_loss: 66569296.0000\n",
            "Epoch 56/300\n",
            "37/37 [==============================] - 0s 3ms/step - loss: 66807160.0000 - val_loss: 65878536.0000\n",
            "Epoch 57/300\n",
            "37/37 [==============================] - 0s 3ms/step - loss: 66122248.0000 - val_loss: 64974232.0000\n",
            "Epoch 58/300\n",
            "37/37 [==============================] - 0s 3ms/step - loss: 65435272.0000 - val_loss: 64310552.0000\n",
            "Epoch 59/300\n",
            "37/37 [==============================] - 0s 2ms/step - loss: 64732884.0000 - val_loss: 63473112.0000\n",
            "Epoch 60/300\n",
            "37/37 [==============================] - 0s 3ms/step - loss: 64038060.0000 - val_loss: 62793640.0000\n",
            "Epoch 61/300\n",
            "37/37 [==============================] - 0s 3ms/step - loss: 63329420.0000 - val_loss: 61901856.0000\n",
            "Epoch 62/300\n",
            "37/37 [==============================] - 0s 2ms/step - loss: 62580428.0000 - val_loss: 61166520.0000\n",
            "Epoch 63/300\n",
            "37/37 [==============================] - 0s 2ms/step - loss: 61853656.0000 - val_loss: 60305852.0000\n",
            "Epoch 64/300\n",
            "37/37 [==============================] - 0s 3ms/step - loss: 61124604.0000 - val_loss: 59476672.0000\n",
            "Epoch 65/300\n",
            "37/37 [==============================] - 0s 2ms/step - loss: 60356664.0000 - val_loss: 58619864.0000\n",
            "Epoch 66/300\n",
            "37/37 [==============================] - 0s 3ms/step - loss: 59589720.0000 - val_loss: 57996728.0000\n",
            "Epoch 67/300\n",
            "37/37 [==============================] - 0s 3ms/step - loss: 58828720.0000 - val_loss: 56961720.0000\n",
            "Epoch 68/300\n",
            "37/37 [==============================] - 0s 3ms/step - loss: 58043932.0000 - val_loss: 56307612.0000\n",
            "Epoch 69/300\n",
            "37/37 [==============================] - 0s 3ms/step - loss: 57257756.0000 - val_loss: 55271120.0000\n",
            "Epoch 70/300\n",
            "37/37 [==============================] - 0s 3ms/step - loss: 56452492.0000 - val_loss: 54501236.0000\n",
            "Epoch 71/300\n",
            "37/37 [==============================] - 0s 3ms/step - loss: 55641256.0000 - val_loss: 53610088.0000\n",
            "Epoch 72/300\n",
            "37/37 [==============================] - 0s 3ms/step - loss: 54822132.0000 - val_loss: 52853676.0000\n",
            "Epoch 73/300\n",
            "37/37 [==============================] - 0s 2ms/step - loss: 54001576.0000 - val_loss: 51818428.0000\n",
            "Epoch 74/300\n",
            "37/37 [==============================] - 0s 2ms/step - loss: 53177284.0000 - val_loss: 51182584.0000\n",
            "Epoch 75/300\n",
            "37/37 [==============================] - 0s 2ms/step - loss: 52317504.0000 - val_loss: 50113192.0000\n",
            "Epoch 76/300\n",
            "37/37 [==============================] - 0s 3ms/step - loss: 51452780.0000 - val_loss: 49245352.0000\n",
            "Epoch 77/300\n",
            "37/37 [==============================] - 0s 3ms/step - loss: 50586228.0000 - val_loss: 48341472.0000\n",
            "Epoch 78/300\n",
            "37/37 [==============================] - 0s 3ms/step - loss: 49704264.0000 - val_loss: 47544508.0000\n",
            "Epoch 79/300\n",
            "37/37 [==============================] - 0s 3ms/step - loss: 48838412.0000 - val_loss: 46456152.0000\n",
            "Epoch 80/300\n",
            "37/37 [==============================] - 0s 3ms/step - loss: 47916364.0000 - val_loss: 45550144.0000\n",
            "Epoch 81/300\n",
            "37/37 [==============================] - 0s 3ms/step - loss: 47003972.0000 - val_loss: 44934468.0000\n",
            "Epoch 82/300\n",
            "37/37 [==============================] - 0s 2ms/step - loss: 46087012.0000 - val_loss: 43729288.0000\n",
            "Epoch 83/300\n",
            "37/37 [==============================] - 0s 3ms/step - loss: 45168332.0000 - val_loss: 43046056.0000\n",
            "Epoch 84/300\n",
            "37/37 [==============================] - 0s 3ms/step - loss: 44260752.0000 - val_loss: 42161732.0000\n",
            "Epoch 85/300\n",
            "37/37 [==============================] - 0s 2ms/step - loss: 43340012.0000 - val_loss: 41161608.0000\n",
            "Epoch 86/300\n",
            "37/37 [==============================] - 0s 2ms/step - loss: 42413720.0000 - val_loss: 40518348.0000\n",
            "Epoch 87/300\n",
            "37/37 [==============================] - 0s 2ms/step - loss: 41510196.0000 - val_loss: 39606220.0000\n",
            "Epoch 88/300\n",
            "37/37 [==============================] - 0s 2ms/step - loss: 40580992.0000 - val_loss: 38703136.0000\n",
            "Epoch 89/300\n",
            "37/37 [==============================] - 0s 2ms/step - loss: 39681432.0000 - val_loss: 38062400.0000\n",
            "Epoch 90/300\n",
            "37/37 [==============================] - 0s 2ms/step - loss: 38797880.0000 - val_loss: 37461044.0000\n",
            "Epoch 91/300\n",
            "37/37 [==============================] - 0s 3ms/step - loss: 37937596.0000 - val_loss: 36821260.0000\n",
            "Epoch 92/300\n",
            "37/37 [==============================] - 0s 3ms/step - loss: 37063664.0000 - val_loss: 35700624.0000\n",
            "Epoch 93/300\n",
            "37/37 [==============================] - 0s 2ms/step - loss: 36215596.0000 - val_loss: 34827264.0000\n",
            "Epoch 94/300\n",
            "37/37 [==============================] - 0s 3ms/step - loss: 35399032.0000 - val_loss: 35027952.0000\n",
            "Epoch 95/300\n",
            "37/37 [==============================] - 0s 3ms/step - loss: 34601952.0000 - val_loss: 33791604.0000\n",
            "Epoch 96/300\n",
            "37/37 [==============================] - 0s 2ms/step - loss: 33836676.0000 - val_loss: 33469712.0000\n",
            "Epoch 97/300\n",
            "37/37 [==============================] - 0s 2ms/step - loss: 33071770.0000 - val_loss: 33045118.0000\n",
            "Epoch 98/300\n",
            "37/37 [==============================] - 0s 2ms/step - loss: 32339720.0000 - val_loss: 32555526.0000\n",
            "Epoch 99/300\n",
            "37/37 [==============================] - 0s 3ms/step - loss: 31612630.0000 - val_loss: 31594526.0000\n",
            "Epoch 100/300\n",
            "37/37 [==============================] - 0s 2ms/step - loss: 30935790.0000 - val_loss: 31424210.0000\n",
            "Epoch 101/300\n",
            "37/37 [==============================] - 0s 2ms/step - loss: 30298674.0000 - val_loss: 31124278.0000\n",
            "Epoch 102/300\n",
            "37/37 [==============================] - 0s 2ms/step - loss: 29675200.0000 - val_loss: 30739930.0000\n",
            "Epoch 103/300\n",
            "37/37 [==============================] - 0s 2ms/step - loss: 29109590.0000 - val_loss: 30515232.0000\n",
            "Epoch 104/300\n",
            "37/37 [==============================] - 0s 2ms/step - loss: 28540628.0000 - val_loss: 30004514.0000\n",
            "Epoch 105/300\n",
            "37/37 [==============================] - 0s 3ms/step - loss: 28017860.0000 - val_loss: 29055244.0000\n",
            "Epoch 106/300\n",
            "37/37 [==============================] - 0s 2ms/step - loss: 27508964.0000 - val_loss: 29185604.0000\n",
            "Epoch 107/300\n",
            "37/37 [==============================] - 0s 4ms/step - loss: 27060466.0000 - val_loss: 28927662.0000\n",
            "Epoch 108/300\n",
            "37/37 [==============================] - 0s 3ms/step - loss: 26630600.0000 - val_loss: 28269816.0000\n",
            "Epoch 109/300\n",
            "37/37 [==============================] - 0s 3ms/step - loss: 26241070.0000 - val_loss: 29228072.0000\n",
            "Epoch 110/300\n",
            "37/37 [==============================] - 0s 2ms/step - loss: 25844566.0000 - val_loss: 27971978.0000\n",
            "Epoch 111/300\n",
            "37/37 [==============================] - 0s 3ms/step - loss: 25454080.0000 - val_loss: 27933284.0000\n",
            "Epoch 112/300\n",
            "37/37 [==============================] - 0s 3ms/step - loss: 25096268.0000 - val_loss: 27473922.0000\n",
            "Epoch 113/300\n",
            "37/37 [==============================] - 0s 3ms/step - loss: 24802226.0000 - val_loss: 27404532.0000\n",
            "Epoch 114/300\n",
            "37/37 [==============================] - 0s 3ms/step - loss: 24478716.0000 - val_loss: 27156446.0000\n",
            "Epoch 115/300\n",
            "37/37 [==============================] - 0s 2ms/step - loss: 24191892.0000 - val_loss: 26873158.0000\n",
            "Epoch 116/300\n",
            "37/37 [==============================] - 0s 2ms/step - loss: 23937088.0000 - val_loss: 26752494.0000\n",
            "Epoch 117/300\n",
            "37/37 [==============================] - 0s 2ms/step - loss: 23691390.0000 - val_loss: 27212288.0000\n",
            "Epoch 118/300\n",
            "37/37 [==============================] - 0s 3ms/step - loss: 23477510.0000 - val_loss: 27197454.0000\n",
            "Epoch 119/300\n",
            "37/37 [==============================] - 0s 3ms/step - loss: 23288800.0000 - val_loss: 26375386.0000\n",
            "Epoch 120/300\n",
            "37/37 [==============================] - 0s 3ms/step - loss: 23139404.0000 - val_loss: 26801874.0000\n",
            "Epoch 121/300\n",
            "37/37 [==============================] - 0s 3ms/step - loss: 22953608.0000 - val_loss: 26458504.0000\n",
            "Epoch 122/300\n",
            "37/37 [==============================] - 0s 2ms/step - loss: 22844546.0000 - val_loss: 26006272.0000\n",
            "Epoch 123/300\n",
            "37/37 [==============================] - 0s 3ms/step - loss: 22711018.0000 - val_loss: 25864050.0000\n",
            "Epoch 124/300\n",
            "37/37 [==============================] - 0s 3ms/step - loss: 22594424.0000 - val_loss: 26310512.0000\n",
            "Epoch 125/300\n",
            "37/37 [==============================] - 0s 3ms/step - loss: 22478408.0000 - val_loss: 26564950.0000\n",
            "Epoch 126/300\n",
            "37/37 [==============================] - 0s 3ms/step - loss: 22387170.0000 - val_loss: 26312780.0000\n",
            "Epoch 127/300\n",
            "37/37 [==============================] - 0s 2ms/step - loss: 22283706.0000 - val_loss: 26372794.0000\n",
            "Epoch 128/300\n",
            "37/37 [==============================] - 0s 2ms/step - loss: 22209058.0000 - val_loss: 26190940.0000\n",
            "Epoch 129/300\n",
            "37/37 [==============================] - 0s 2ms/step - loss: 22125196.0000 - val_loss: 26560912.0000\n",
            "Epoch 130/300\n",
            "37/37 [==============================] - 0s 3ms/step - loss: 22078316.0000 - val_loss: 26184490.0000\n",
            "Epoch 131/300\n",
            "37/37 [==============================] - 0s 3ms/step - loss: 21991684.0000 - val_loss: 26187710.0000\n",
            "Epoch 132/300\n",
            "37/37 [==============================] - 0s 3ms/step - loss: 21913128.0000 - val_loss: 25956110.0000\n",
            "Epoch 133/300\n",
            "37/37 [==============================] - 0s 2ms/step - loss: 21847452.0000 - val_loss: 26027424.0000\n",
            "Epoch 134/300\n",
            "37/37 [==============================] - 0s 2ms/step - loss: 21787810.0000 - val_loss: 26182436.0000\n",
            "Epoch 135/300\n",
            "37/37 [==============================] - 0s 2ms/step - loss: 21727382.0000 - val_loss: 25644334.0000\n",
            "Epoch 136/300\n",
            "37/37 [==============================] - 0s 3ms/step - loss: 21682024.0000 - val_loss: 26403594.0000\n",
            "Epoch 137/300\n",
            "37/37 [==============================] - 0s 3ms/step - loss: 21633284.0000 - val_loss: 25896710.0000\n",
            "Epoch 138/300\n",
            "37/37 [==============================] - 0s 2ms/step - loss: 21580968.0000 - val_loss: 26160244.0000\n",
            "Epoch 139/300\n",
            "37/37 [==============================] - 0s 3ms/step - loss: 21529424.0000 - val_loss: 26635866.0000\n",
            "Epoch 140/300\n",
            "37/37 [==============================] - 0s 3ms/step - loss: 21498372.0000 - val_loss: 26348408.0000\n",
            "Epoch 141/300\n",
            "37/37 [==============================] - 0s 2ms/step - loss: 21446838.0000 - val_loss: 25840942.0000\n",
            "Epoch 142/300\n",
            "37/37 [==============================] - 0s 3ms/step - loss: 21405320.0000 - val_loss: 25725022.0000\n",
            "Epoch 143/300\n",
            "37/37 [==============================] - 0s 3ms/step - loss: 21356696.0000 - val_loss: 25567862.0000\n",
            "Epoch 144/300\n",
            "37/37 [==============================] - 0s 3ms/step - loss: 21305194.0000 - val_loss: 25964112.0000\n",
            "Epoch 145/300\n",
            "37/37 [==============================] - 0s 2ms/step - loss: 21264118.0000 - val_loss: 25628940.0000\n",
            "Epoch 146/300\n",
            "37/37 [==============================] - 0s 3ms/step - loss: 21221248.0000 - val_loss: 25603184.0000\n",
            "Epoch 147/300\n",
            "37/37 [==============================] - 0s 3ms/step - loss: 21181434.0000 - val_loss: 25888622.0000\n",
            "Epoch 148/300\n",
            "37/37 [==============================] - 0s 3ms/step - loss: 21146798.0000 - val_loss: 25340282.0000\n",
            "Epoch 149/300\n",
            "37/37 [==============================] - 0s 2ms/step - loss: 21099974.0000 - val_loss: 25589466.0000\n",
            "Epoch 150/300\n",
            "37/37 [==============================] - 0s 3ms/step - loss: 21072832.0000 - val_loss: 25397644.0000\n",
            "Epoch 151/300\n",
            "37/37 [==============================] - 0s 2ms/step - loss: 21029034.0000 - val_loss: 25437508.0000\n",
            "Epoch 152/300\n",
            "37/37 [==============================] - 0s 3ms/step - loss: 20988114.0000 - val_loss: 25304108.0000\n",
            "Epoch 153/300\n",
            "37/37 [==============================] - 0s 3ms/step - loss: 20948542.0000 - val_loss: 25761084.0000\n",
            "Epoch 154/300\n",
            "37/37 [==============================] - 0s 3ms/step - loss: 20931044.0000 - val_loss: 25074340.0000\n",
            "Epoch 155/300\n",
            "37/37 [==============================] - 0s 3ms/step - loss: 20883694.0000 - val_loss: 25195658.0000\n",
            "Epoch 156/300\n",
            "37/37 [==============================] - 0s 3ms/step - loss: 20875294.0000 - val_loss: 25156586.0000\n",
            "Epoch 157/300\n",
            "37/37 [==============================] - 0s 2ms/step - loss: 20822862.0000 - val_loss: 25526878.0000\n",
            "Epoch 158/300\n",
            "37/37 [==============================] - 0s 3ms/step - loss: 20788656.0000 - val_loss: 25210090.0000\n",
            "Epoch 159/300\n",
            "37/37 [==============================] - 0s 2ms/step - loss: 20791252.0000 - val_loss: 26151430.0000\n",
            "Epoch 160/300\n",
            "37/37 [==============================] - 0s 3ms/step - loss: 20722286.0000 - val_loss: 24708762.0000\n",
            "Epoch 161/300\n",
            "37/37 [==============================] - 0s 3ms/step - loss: 20689972.0000 - val_loss: 24894958.0000\n",
            "Epoch 162/300\n",
            "37/37 [==============================] - 0s 2ms/step - loss: 20647700.0000 - val_loss: 24770590.0000\n",
            "Epoch 163/300\n",
            "37/37 [==============================] - 0s 3ms/step - loss: 20631700.0000 - val_loss: 24540066.0000\n",
            "Epoch 164/300\n",
            "37/37 [==============================] - 0s 2ms/step - loss: 20589298.0000 - val_loss: 24742296.0000\n",
            "Epoch 165/300\n",
            "37/37 [==============================] - 0s 3ms/step - loss: 20563644.0000 - val_loss: 25172932.0000\n",
            "Epoch 166/300\n",
            "37/37 [==============================] - 0s 3ms/step - loss: 20542822.0000 - val_loss: 24836118.0000\n",
            "Epoch 167/300\n",
            "37/37 [==============================] - 0s 3ms/step - loss: 20503140.0000 - val_loss: 24345670.0000\n",
            "Epoch 168/300\n",
            "37/37 [==============================] - 0s 3ms/step - loss: 20473434.0000 - val_loss: 25175494.0000\n",
            "Epoch 169/300\n",
            "37/37 [==============================] - 0s 3ms/step - loss: 20466928.0000 - val_loss: 25141606.0000\n",
            "Epoch 170/300\n",
            "37/37 [==============================] - 0s 3ms/step - loss: 20460818.0000 - val_loss: 24412682.0000\n",
            "Epoch 171/300\n",
            "37/37 [==============================] - 0s 3ms/step - loss: 20391248.0000 - val_loss: 24956548.0000\n",
            "Epoch 172/300\n",
            "37/37 [==============================] - 0s 3ms/step - loss: 20396246.0000 - val_loss: 24433118.0000\n",
            "Epoch 173/300\n",
            "37/37 [==============================] - 0s 2ms/step - loss: 20335112.0000 - val_loss: 23953846.0000\n",
            "Epoch 174/300\n",
            "37/37 [==============================] - 0s 3ms/step - loss: 20320360.0000 - val_loss: 24212022.0000\n",
            "Epoch 175/300\n",
            "37/37 [==============================] - 0s 3ms/step - loss: 20296556.0000 - val_loss: 24029698.0000\n",
            "Epoch 176/300\n",
            "37/37 [==============================] - 0s 3ms/step - loss: 20250932.0000 - val_loss: 24586708.0000\n",
            "Epoch 177/300\n",
            "37/37 [==============================] - 0s 3ms/step - loss: 20242748.0000 - val_loss: 24424882.0000\n",
            "Epoch 178/300\n",
            "37/37 [==============================] - 0s 3ms/step - loss: 20210564.0000 - val_loss: 24403476.0000\n",
            "Epoch 179/300\n",
            "37/37 [==============================] - 0s 2ms/step - loss: 20201224.0000 - val_loss: 24196916.0000\n",
            "Epoch 180/300\n",
            "37/37 [==============================] - 0s 3ms/step - loss: 20166748.0000 - val_loss: 23990654.0000\n",
            "Epoch 181/300\n",
            "37/37 [==============================] - 0s 3ms/step - loss: 20132088.0000 - val_loss: 24555614.0000\n",
            "Epoch 182/300\n",
            "37/37 [==============================] - 0s 2ms/step - loss: 20116618.0000 - val_loss: 24568752.0000\n",
            "Epoch 183/300\n",
            "37/37 [==============================] - 0s 3ms/step - loss: 20088972.0000 - val_loss: 25266978.0000\n",
            "Epoch 184/300\n",
            "37/37 [==============================] - 0s 3ms/step - loss: 20078186.0000 - val_loss: 24109306.0000\n",
            "Epoch 185/300\n",
            "37/37 [==============================] - 0s 2ms/step - loss: 20033330.0000 - val_loss: 24192846.0000\n",
            "Epoch 186/300\n",
            "37/37 [==============================] - 0s 3ms/step - loss: 20002798.0000 - val_loss: 24471054.0000\n",
            "Epoch 187/300\n",
            "37/37 [==============================] - 0s 2ms/step - loss: 19987994.0000 - val_loss: 23849804.0000\n",
            "Epoch 188/300\n",
            "37/37 [==============================] - 0s 3ms/step - loss: 19971208.0000 - val_loss: 24330228.0000\n",
            "Epoch 189/300\n",
            "37/37 [==============================] - 0s 3ms/step - loss: 19945100.0000 - val_loss: 23820356.0000\n",
            "Epoch 190/300\n",
            "37/37 [==============================] - 0s 3ms/step - loss: 19936502.0000 - val_loss: 23338934.0000\n",
            "Epoch 191/300\n",
            "37/37 [==============================] - 0s 3ms/step - loss: 19910912.0000 - val_loss: 24200606.0000\n",
            "Epoch 192/300\n",
            "37/37 [==============================] - 0s 3ms/step - loss: 19863528.0000 - val_loss: 23611418.0000\n",
            "Epoch 193/300\n",
            "37/37 [==============================] - 0s 3ms/step - loss: 19879066.0000 - val_loss: 23710944.0000\n",
            "Epoch 194/300\n",
            "37/37 [==============================] - 0s 3ms/step - loss: 19840638.0000 - val_loss: 23525516.0000\n",
            "Epoch 195/300\n",
            "37/37 [==============================] - 0s 3ms/step - loss: 19807806.0000 - val_loss: 24044214.0000\n",
            "Epoch 196/300\n",
            "37/37 [==============================] - 0s 3ms/step - loss: 19779234.0000 - val_loss: 23722732.0000\n",
            "Epoch 197/300\n",
            "37/37 [==============================] - 0s 3ms/step - loss: 19755264.0000 - val_loss: 23563964.0000\n",
            "Epoch 198/300\n",
            "37/37 [==============================] - 0s 3ms/step - loss: 19746610.0000 - val_loss: 23789508.0000\n",
            "Epoch 199/300\n",
            "37/37 [==============================] - 0s 3ms/step - loss: 19730944.0000 - val_loss: 23854954.0000\n",
            "Epoch 200/300\n",
            "37/37 [==============================] - 0s 2ms/step - loss: 19689892.0000 - val_loss: 23663838.0000\n",
            "Epoch 201/300\n",
            "37/37 [==============================] - 0s 3ms/step - loss: 19684760.0000 - val_loss: 23730426.0000\n",
            "Epoch 202/300\n",
            "37/37 [==============================] - 0s 3ms/step - loss: 19704562.0000 - val_loss: 24002074.0000\n",
            "Epoch 203/300\n",
            "37/37 [==============================] - 0s 3ms/step - loss: 19650132.0000 - val_loss: 23783918.0000\n",
            "Epoch 204/300\n",
            "37/37 [==============================] - 0s 3ms/step - loss: 19639004.0000 - val_loss: 23414422.0000\n",
            "Epoch 205/300\n",
            "37/37 [==============================] - 0s 3ms/step - loss: 19615436.0000 - val_loss: 23558824.0000\n",
            "Epoch 206/300\n",
            "37/37 [==============================] - 0s 3ms/step - loss: 19593356.0000 - val_loss: 23749650.0000\n",
            "Epoch 207/300\n",
            "37/37 [==============================] - 0s 3ms/step - loss: 19565732.0000 - val_loss: 24059896.0000\n",
            "Epoch 208/300\n",
            "37/37 [==============================] - 0s 3ms/step - loss: 19586134.0000 - val_loss: 23767110.0000\n",
            "Epoch 209/300\n",
            "37/37 [==============================] - 0s 3ms/step - loss: 19552574.0000 - val_loss: 23636112.0000\n",
            "Epoch 210/300\n",
            "37/37 [==============================] - 0s 3ms/step - loss: 19514416.0000 - val_loss: 23366784.0000\n",
            "Epoch 211/300\n",
            "37/37 [==============================] - 0s 2ms/step - loss: 19497676.0000 - val_loss: 23212280.0000\n",
            "Epoch 212/300\n",
            "37/37 [==============================] - 0s 3ms/step - loss: 19497822.0000 - val_loss: 23256948.0000\n",
            "Epoch 213/300\n",
            "37/37 [==============================] - 0s 3ms/step - loss: 19495676.0000 - val_loss: 24059888.0000\n",
            "Epoch 214/300\n",
            "37/37 [==============================] - 0s 3ms/step - loss: 19472080.0000 - val_loss: 23529228.0000\n",
            "Epoch 215/300\n",
            "37/37 [==============================] - 0s 3ms/step - loss: 19433220.0000 - val_loss: 23102856.0000\n",
            "Epoch 216/300\n",
            "37/37 [==============================] - 0s 3ms/step - loss: 19430248.0000 - val_loss: 23573882.0000\n",
            "Epoch 217/300\n",
            "37/37 [==============================] - 0s 2ms/step - loss: 19411650.0000 - val_loss: 23655020.0000\n",
            "Epoch 218/300\n",
            "37/37 [==============================] - 0s 4ms/step - loss: 19393422.0000 - val_loss: 24245224.0000\n",
            "Epoch 219/300\n",
            "37/37 [==============================] - 0s 3ms/step - loss: 19415834.0000 - val_loss: 23667508.0000\n",
            "Epoch 220/300\n",
            "37/37 [==============================] - 0s 3ms/step - loss: 19385420.0000 - val_loss: 23601152.0000\n",
            "Epoch 221/300\n",
            "37/37 [==============================] - 0s 3ms/step - loss: 19363236.0000 - val_loss: 23503584.0000\n",
            "Epoch 222/300\n",
            "37/37 [==============================] - 0s 3ms/step - loss: 19350504.0000 - val_loss: 23406130.0000\n",
            "Epoch 223/300\n",
            "37/37 [==============================] - 0s 3ms/step - loss: 19309558.0000 - val_loss: 24200914.0000\n",
            "Epoch 224/300\n",
            "37/37 [==============================] - 0s 2ms/step - loss: 19363258.0000 - val_loss: 23306468.0000\n",
            "Epoch 225/300\n",
            "37/37 [==============================] - 0s 3ms/step - loss: 19308226.0000 - val_loss: 23577668.0000\n",
            "Epoch 226/300\n",
            "37/37 [==============================] - 0s 3ms/step - loss: 19314588.0000 - val_loss: 23195946.0000\n",
            "Epoch 227/300\n",
            "37/37 [==============================] - 0s 3ms/step - loss: 19303820.0000 - val_loss: 23575150.0000\n",
            "Epoch 228/300\n",
            "37/37 [==============================] - 0s 3ms/step - loss: 19275514.0000 - val_loss: 23107980.0000\n",
            "Epoch 229/300\n",
            "37/37 [==============================] - 0s 3ms/step - loss: 19284522.0000 - val_loss: 22737086.0000\n",
            "Epoch 230/300\n",
            "37/37 [==============================] - 0s 2ms/step - loss: 19298370.0000 - val_loss: 23233130.0000\n",
            "Epoch 231/300\n",
            "37/37 [==============================] - 0s 3ms/step - loss: 19252880.0000 - val_loss: 23467966.0000\n",
            "Epoch 232/300\n",
            "37/37 [==============================] - 0s 3ms/step - loss: 19220504.0000 - val_loss: 23283390.0000\n",
            "Epoch 233/300\n",
            "37/37 [==============================] - 0s 3ms/step - loss: 19227020.0000 - val_loss: 23298306.0000\n",
            "Epoch 234/300\n",
            "37/37 [==============================] - 0s 3ms/step - loss: 19223796.0000 - val_loss: 23525290.0000\n",
            "Epoch 235/300\n",
            "37/37 [==============================] - 0s 3ms/step - loss: 19217746.0000 - val_loss: 23183454.0000\n",
            "Epoch 236/300\n",
            "37/37 [==============================] - 0s 3ms/step - loss: 19181738.0000 - val_loss: 22802936.0000\n",
            "Epoch 237/300\n",
            "37/37 [==============================] - 0s 3ms/step - loss: 19179456.0000 - val_loss: 23094982.0000\n",
            "Epoch 238/300\n",
            "37/37 [==============================] - 0s 3ms/step - loss: 19164076.0000 - val_loss: 23359516.0000\n",
            "Epoch 239/300\n",
            "37/37 [==============================] - 0s 2ms/step - loss: 19161550.0000 - val_loss: 23338376.0000\n",
            "Epoch 240/300\n",
            "37/37 [==============================] - 0s 3ms/step - loss: 19163020.0000 - val_loss: 23483410.0000\n",
            "Epoch 241/300\n",
            "37/37 [==============================] - 0s 3ms/step - loss: 19132642.0000 - val_loss: 22993404.0000\n",
            "Epoch 242/300\n",
            "37/37 [==============================] - 0s 3ms/step - loss: 19122468.0000 - val_loss: 22597862.0000\n",
            "Epoch 243/300\n",
            "37/37 [==============================] - 0s 3ms/step - loss: 19116148.0000 - val_loss: 22860456.0000\n",
            "Epoch 244/300\n",
            "37/37 [==============================] - 0s 3ms/step - loss: 19097586.0000 - val_loss: 23185222.0000\n",
            "Epoch 245/300\n",
            "37/37 [==============================] - 0s 3ms/step - loss: 19106558.0000 - val_loss: 22902828.0000\n",
            "Epoch 246/300\n",
            "37/37 [==============================] - 0s 3ms/step - loss: 19082194.0000 - val_loss: 23372320.0000\n",
            "Epoch 247/300\n",
            "37/37 [==============================] - 0s 3ms/step - loss: 19074222.0000 - val_loss: 23369560.0000\n",
            "Epoch 248/300\n",
            "37/37 [==============================] - 0s 3ms/step - loss: 19070330.0000 - val_loss: 23622930.0000\n",
            "Epoch 249/300\n",
            "37/37 [==============================] - 0s 3ms/step - loss: 19072144.0000 - val_loss: 22908594.0000\n",
            "Epoch 250/300\n",
            "37/37 [==============================] - 0s 3ms/step - loss: 19062978.0000 - val_loss: 22578188.0000\n",
            "Epoch 251/300\n",
            "37/37 [==============================] - 0s 2ms/step - loss: 19024742.0000 - val_loss: 23105974.0000\n",
            "Epoch 252/300\n",
            "37/37 [==============================] - 0s 3ms/step - loss: 19072720.0000 - val_loss: 22880006.0000\n",
            "Epoch 253/300\n",
            "37/37 [==============================] - 0s 3ms/step - loss: 19008188.0000 - val_loss: 22821156.0000\n",
            "Epoch 254/300\n",
            "37/37 [==============================] - 0s 3ms/step - loss: 19030912.0000 - val_loss: 23050584.0000\n",
            "Epoch 255/300\n",
            "37/37 [==============================] - 0s 3ms/step - loss: 19005448.0000 - val_loss: 22971474.0000\n",
            "Epoch 256/300\n",
            "37/37 [==============================] - 0s 3ms/step - loss: 19023298.0000 - val_loss: 22829550.0000\n",
            "Epoch 257/300\n",
            "37/37 [==============================] - 0s 2ms/step - loss: 19024486.0000 - val_loss: 23285232.0000\n",
            "Epoch 258/300\n",
            "37/37 [==============================] - 0s 3ms/step - loss: 18976422.0000 - val_loss: 22507452.0000\n",
            "Epoch 259/300\n",
            "37/37 [==============================] - 0s 3ms/step - loss: 18980110.0000 - val_loss: 22838046.0000\n",
            "Epoch 260/300\n",
            "37/37 [==============================] - 0s 3ms/step - loss: 18954520.0000 - val_loss: 22418936.0000\n",
            "Epoch 261/300\n",
            "37/37 [==============================] - 0s 3ms/step - loss: 18967194.0000 - val_loss: 22479846.0000\n",
            "Epoch 262/300\n",
            "37/37 [==============================] - 0s 3ms/step - loss: 18948440.0000 - val_loss: 22635164.0000\n",
            "Epoch 263/300\n",
            "37/37 [==============================] - 0s 3ms/step - loss: 18947238.0000 - val_loss: 22820512.0000\n",
            "Epoch 264/300\n",
            "37/37 [==============================] - 0s 3ms/step - loss: 18927970.0000 - val_loss: 22955782.0000\n",
            "Epoch 265/300\n",
            "37/37 [==============================] - 0s 3ms/step - loss: 18920236.0000 - val_loss: 22337846.0000\n",
            "Epoch 266/300\n",
            "37/37 [==============================] - 0s 3ms/step - loss: 18908800.0000 - val_loss: 22838352.0000\n",
            "Epoch 267/300\n",
            "37/37 [==============================] - 0s 3ms/step - loss: 18919460.0000 - val_loss: 22891546.0000\n",
            "Epoch 268/300\n",
            "37/37 [==============================] - 0s 3ms/step - loss: 18892226.0000 - val_loss: 23036154.0000\n",
            "Epoch 269/300\n",
            "37/37 [==============================] - 0s 3ms/step - loss: 18881072.0000 - val_loss: 22633424.0000\n",
            "Epoch 270/300\n",
            "37/37 [==============================] - 0s 3ms/step - loss: 18878296.0000 - val_loss: 22593096.0000\n",
            "Epoch 271/300\n",
            "37/37 [==============================] - 0s 3ms/step - loss: 18889302.0000 - val_loss: 22718404.0000\n",
            "Epoch 272/300\n",
            "37/37 [==============================] - 0s 2ms/step - loss: 18861642.0000 - val_loss: 22954316.0000\n",
            "Epoch 273/300\n",
            "37/37 [==============================] - 0s 3ms/step - loss: 18869462.0000 - val_loss: 22931460.0000\n",
            "Epoch 274/300\n",
            "37/37 [==============================] - 0s 3ms/step - loss: 18840470.0000 - val_loss: 22411990.0000\n",
            "Epoch 275/300\n",
            "37/37 [==============================] - 0s 3ms/step - loss: 18835954.0000 - val_loss: 21791484.0000\n",
            "Epoch 276/300\n",
            "37/37 [==============================] - 0s 3ms/step - loss: 18875222.0000 - val_loss: 22572120.0000\n",
            "Epoch 277/300\n",
            "37/37 [==============================] - 0s 3ms/step - loss: 18814370.0000 - val_loss: 22471508.0000\n",
            "Epoch 278/300\n",
            "37/37 [==============================] - 0s 3ms/step - loss: 18819594.0000 - val_loss: 22501680.0000\n",
            "Epoch 279/300\n",
            "37/37 [==============================] - 0s 3ms/step - loss: 18862076.0000 - val_loss: 23540586.0000\n",
            "Epoch 280/300\n",
            "37/37 [==============================] - 0s 3ms/step - loss: 18803722.0000 - val_loss: 22276064.0000\n",
            "Epoch 281/300\n",
            "37/37 [==============================] - 0s 3ms/step - loss: 18797680.0000 - val_loss: 22565914.0000\n",
            "Epoch 282/300\n",
            "37/37 [==============================] - 0s 3ms/step - loss: 18788196.0000 - val_loss: 22561204.0000\n",
            "Epoch 283/300\n",
            "37/37 [==============================] - 0s 3ms/step - loss: 18767124.0000 - val_loss: 22374764.0000\n",
            "Epoch 284/300\n",
            "37/37 [==============================] - 0s 2ms/step - loss: 18758424.0000 - val_loss: 22805132.0000\n",
            "Epoch 285/300\n",
            "37/37 [==============================] - 0s 3ms/step - loss: 18766074.0000 - val_loss: 22719028.0000\n",
            "Epoch 286/300\n",
            "37/37 [==============================] - 0s 3ms/step - loss: 18745034.0000 - val_loss: 22654608.0000\n",
            "Epoch 287/300\n",
            "37/37 [==============================] - 0s 3ms/step - loss: 18746650.0000 - val_loss: 22419184.0000\n",
            "Epoch 288/300\n",
            "37/37 [==============================] - 0s 3ms/step - loss: 18751320.0000 - val_loss: 22223250.0000\n",
            "Epoch 289/300\n",
            "37/37 [==============================] - 0s 3ms/step - loss: 18724316.0000 - val_loss: 22777106.0000\n",
            "Epoch 290/300\n",
            "37/37 [==============================] - 0s 3ms/step - loss: 18724120.0000 - val_loss: 22865150.0000\n",
            "Epoch 291/300\n",
            "37/37 [==============================] - 0s 3ms/step - loss: 18727670.0000 - val_loss: 22500886.0000\n",
            "Epoch 292/300\n",
            "37/37 [==============================] - 0s 3ms/step - loss: 18721558.0000 - val_loss: 22159582.0000\n",
            "Epoch 293/300\n",
            "37/37 [==============================] - 0s 3ms/step - loss: 18692932.0000 - val_loss: 22300664.0000\n",
            "Epoch 294/300\n",
            "37/37 [==============================] - 0s 3ms/step - loss: 18668346.0000 - val_loss: 22061046.0000\n",
            "Epoch 295/300\n",
            "37/37 [==============================] - 0s 3ms/step - loss: 18692548.0000 - val_loss: 22439354.0000\n",
            "Epoch 296/300\n",
            "37/37 [==============================] - 0s 3ms/step - loss: 18668716.0000 - val_loss: 22566640.0000\n",
            "Epoch 297/300\n",
            "37/37 [==============================] - 0s 3ms/step - loss: 18663092.0000 - val_loss: 22675124.0000\n",
            "Epoch 298/300\n",
            "37/37 [==============================] - 0s 3ms/step - loss: 18658360.0000 - val_loss: 22593818.0000\n",
            "Epoch 299/300\n",
            "37/37 [==============================] - 0s 3ms/step - loss: 18651826.0000 - val_loss: 22003586.0000\n",
            "Epoch 300/300\n",
            "37/37 [==============================] - 0s 3ms/step - loss: 18636274.0000 - val_loss: 22197746.0000\n"
          ]
        },
        {
          "output_type": "execute_result",
          "data": {
            "text/plain": [
              "<keras.callbacks.History at 0x7fc87baa5f50>"
            ]
          },
          "metadata": {},
          "execution_count": 42
        }
      ]
    },
    {
      "cell_type": "code",
      "metadata": {
        "id": "Tg_PFPvE_x0x"
      },
      "source": [
        "kayipVerisi = pd.DataFrame(model.history.history)"
      ],
      "execution_count": null,
      "outputs": []
    },
    {
      "cell_type": "code",
      "metadata": {
        "colab": {
          "base_uri": "https://localhost:8080/",
          "height": 203
        },
        "id": "ucD254OCAW9N",
        "outputId": "60278fc3-eefa-4b65-ecaf-56201bf42b8f"
      },
      "source": [
        "kayipVerisi.head()"
      ],
      "execution_count": null,
      "outputs": [
        {
          "output_type": "execute_result",
          "data": {
            "text/html": [
              "<div>\n",
              "<style scoped>\n",
              "    .dataframe tbody tr th:only-of-type {\n",
              "        vertical-align: middle;\n",
              "    }\n",
              "\n",
              "    .dataframe tbody tr th {\n",
              "        vertical-align: top;\n",
              "    }\n",
              "\n",
              "    .dataframe thead th {\n",
              "        text-align: right;\n",
              "    }\n",
              "</style>\n",
              "<table border=\"1\" class=\"dataframe\">\n",
              "  <thead>\n",
              "    <tr style=\"text-align: right;\">\n",
              "      <th></th>\n",
              "      <th>loss</th>\n",
              "      <th>val_loss</th>\n",
              "    </tr>\n",
              "  </thead>\n",
              "  <tbody>\n",
              "    <tr>\n",
              "      <th>0</th>\n",
              "      <td>672137856.0</td>\n",
              "      <td>688085312.0</td>\n",
              "    </tr>\n",
              "    <tr>\n",
              "      <th>1</th>\n",
              "      <td>672093056.0</td>\n",
              "      <td>688011520.0</td>\n",
              "    </tr>\n",
              "    <tr>\n",
              "      <th>2</th>\n",
              "      <td>671960576.0</td>\n",
              "      <td>687778560.0</td>\n",
              "    </tr>\n",
              "    <tr>\n",
              "      <th>3</th>\n",
              "      <td>671539584.0</td>\n",
              "      <td>687003328.0</td>\n",
              "    </tr>\n",
              "    <tr>\n",
              "      <th>4</th>\n",
              "      <td>670176000.0</td>\n",
              "      <td>684668032.0</td>\n",
              "    </tr>\n",
              "  </tbody>\n",
              "</table>\n",
              "</div>"
            ],
            "text/plain": [
              "          loss     val_loss\n",
              "0  672137856.0  688085312.0\n",
              "1  672093056.0  688011520.0\n",
              "2  671960576.0  687778560.0\n",
              "3  671539584.0  687003328.0\n",
              "4  670176000.0  684668032.0"
            ]
          },
          "metadata": {},
          "execution_count": 44
        }
      ]
    },
    {
      "cell_type": "code",
      "metadata": {
        "colab": {
          "base_uri": "https://localhost:8080/",
          "height": 293
        },
        "id": "w9zIZkpHAluP",
        "outputId": "ab5be001-a15e-48b0-f74a-efcfb008eed0"
      },
      "source": [
        "kayipVerisi.plot()"
      ],
      "execution_count": null,
      "outputs": [
        {
          "output_type": "execute_result",
          "data": {
            "text/plain": [
              "<matplotlib.axes._subplots.AxesSubplot at 0x7fc87ba3cf50>"
            ]
          },
          "metadata": {},
          "execution_count": 45
        },
        {
          "output_type": "display_data",
          "data": {
            "image/png": "[encoded data removed]",
            "text/plain": [
              "<Figure size 432x288 with 1 Axes>"
            ]
          },
          "metadata": {
            "needs_background": "light"
          }
        }
      ]
    },
    {
      "cell_type": "code",
      "metadata": {
        "id": "d3T3C8VEAv7g"
      },
      "source": [
        "from sklearn.metrics import mean_squared_error, mean_absolute_error"
      ],
      "execution_count": null,
      "outputs": []
    },
    {
      "cell_type": "code",
      "metadata": {
        "id": "dAWBEL6idPQ7"
      },
      "source": [
        "tahminDizisi = model.predict(x_test)"
      ],
      "execution_count": null,
      "outputs": []
    },
    {
      "cell_type": "code",
      "metadata": {
        "colab": {
          "base_uri": "https://localhost:8080/"
        },
        "id": "ZBnODShEdW8U",
        "outputId": "13d62535-e23c-4589-f0a9-f0ea2de5474b"
      },
      "source": [
        "tahminDizisi"
      ],
      "execution_count": null,
      "outputs": [
        {
          "output_type": "execute_result",
          "data": {
            "text/plain": [
              "array([[20234.562],\n",
              "       [22265.033],\n",
              "       [24440.562],\n",
              "       ...,\n",
              "       [24978.703],\n",
              "       [12407.059],\n",
              "       [23952.885]], dtype=float32)"
            ]
          },
          "metadata": {},
          "execution_count": 49
        }
      ]
    },
    {
      "cell_type": "code",
      "metadata": {
        "colab": {
          "base_uri": "https://localhost:8080/"
        },
        "id": "3p4RiczkdYh0",
        "outputId": "16b3c59b-6ede-402e-b82e-95c532d57834"
      },
      "source": [
        "mean_absolute_error(y_test,tahminDizisi)"
      ],
      "execution_count": null,
      "outputs": [
        {
          "output_type": "execute_result",
          "data": {
            "text/plain": [
              "3329.1241324254283"
            ]
          },
          "metadata": {},
          "execution_count": 50
        }
      ]
    },
    {
      "cell_type": "code",
      "metadata": {
        "colab": {
          "base_uri": "https://localhost:8080/",
          "height": 282
        },
        "id": "kAnlCZRpdhHv",
        "outputId": "35adf656-e1d1-4fc3-94d0-6f6cff828c73"
      },
      "source": [
        "plt.scatter(y_test,tahminDizisi)\n",
        "plt.plot(y_test,y_test,\"g-*\")"
      ],
      "execution_count": null,
      "outputs": [
        {
          "output_type": "execute_result",
          "data": {
            "text/plain": [
              "[<matplotlib.lines.Line2D at 0x7fc87b34f0d0>]"
            ]
          },
          "metadata": {},
          "execution_count": 52
        },
        {
          "output_type": "display_data",
          "data": {
            "image/png": "[encoded data removed]",
            "text/plain": [
              "<Figure size 432x288 with 1 Axes>"
            ]
          },
          "metadata": {
            "needs_background": "light"
          }
        }
      ]
    },
    {
      "cell_type": "code",
      "metadata": {
        "colab": {
          "base_uri": "https://localhost:8080/"
        },
        "id": "Fuaizv0Ldt_2",
        "outputId": "865da9ed-d06e-4558-f0e8-7788d5aabd13"
      },
      "source": [
        "dataFrame.iloc[2]"
      ],
      "execution_count": null,
      "outputs": [
        {
          "output_type": "execute_result",
          "data": {
            "text/plain": [
              "year           2020.0\n",
              "price         65980.0\n",
              "mileage        3999.0\n",
              "tax             145.0\n",
              "mpg              28.0\n",
              "engineSize        4.0\n",
              "Name: 3191, dtype: float64"
            ]
          },
          "metadata": {},
          "execution_count": 53
        }
      ]
    },
    {
      "cell_type": "code",
      "metadata": {
        "id": "zJYnwwuxd-3s"
      },
      "source": [
        "yeniAraba = dataFrame.drop(\"price\",axis=1).iloc[2]"
      ],
      "execution_count": null,
      "outputs": []
    },
    {
      "cell_type": "code",
      "metadata": {
        "colab": {
          "base_uri": "https://localhost:8080/"
        },
        "id": "nbo1-CsPeUR7",
        "outputId": "63b89e18-79e9-46eb-d1ba-25ff3f961520"
      },
      "source": [
        "type(yeniAraba)"
      ],
      "execution_count": null,
      "outputs": [
        {
          "output_type": "execute_result",
          "data": {
            "text/plain": [
              "pandas.core.series.Series"
            ]
          },
          "metadata": {},
          "execution_count": 57
        }
      ]
    },
    {
      "cell_type": "code",
      "metadata": {
        "id": "sQnbyr-Seqst"
      },
      "source": [
        "yeniAraba = scaler.transform(yeniAraba.values.reshape(-1,5))"
      ],
      "execution_count": null,
      "outputs": []
    },
    {
      "cell_type": "code",
      "metadata": {
        "colab": {
          "base_uri": "https://localhost:8080/"
        },
        "id": "1EVgFcRVexuO",
        "outputId": "5854545e-be3f-458c-f478-010d379fbd4d"
      },
      "source": [
        "model.predict(yeniAraba)"
      ],
      "execution_count": null,
      "outputs": [
        {
          "output_type": "execute_result",
          "data": {
            "text/plain": [
              "array([[62079.918]], dtype=float32)"
            ]
          },
          "metadata": {},
          "execution_count": 59
        }
      ]
    },
    {
      "cell_type": "code",
      "metadata": {
        "id": "8j1D9kU2e1In"
      },
      "source": [
        ""
      ],
      "execution_count": null,
      "outputs": []
    }
  ]
}
